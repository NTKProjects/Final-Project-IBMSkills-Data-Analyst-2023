{
 "cells": [
  {
   "cell_type": "markdown",
   "id": "18e1c76e",
   "metadata": {
    "id": "18e1c76e"
   },
   "source": [
    "<center><h1>Proyecto final</h1></center>\n",
    "<center><h3>IBM SkillsBuild Europa - Análisis de datos</h3></center>"
   ]
  },
  {
   "cell_type": "markdown",
   "id": "ccdda504",
   "metadata": {
    "id": "ccdda504"
   },
   "source": [
    "# Requisitos\n",
    "\n",
    "\n",
    "\n",
    "* Conocimientos de Python, Power BI o Tableau.\n",
    "* Comprensión de la limpieza de datos.\n",
    "* Comprensión de la visualización de datos.\n",
    "\n",
    "\n",
    "\n",
    "#### Nivel de ejercicio: Intermedio\n",
    "\n",
    "\n",
    "\n",
    "#### Duración: aproximadamente 3 horas\n"
   ]
  },
  {
   "cell_type": "markdown",
   "id": "1dd097a8",
   "metadata": {
    "id": "1dd097a8"
   },
   "source": [
    "### Análisis de datos de Airbnb:\n",
    "\n",
    "\n",
    "\n",
    "#### Objetivo:\n",
    "\n",
    "\n",
    "\n",
    "En este ejercicio, practicarás el análisis de datos sobre un conjunto de datos abiertos procedentes de Airbnb. Algunas de las tareas incluyen:\n",
    "\n",
    "- limpieza de datos,\n",
    "- transformación de datos y\n",
    "- visualización de datos.\n",
    "\n",
    "\n",
    "\n",
    "#### Resumen sobre los datos de Airbnb:\n",
    "\n",
    "\n",
    "\n",
    "Los criterios principales de la gente cuando visita lugares nuevos son contar con alojamiento y comida a precios razonables. Airbnb (Air-Bed-Breakfast) es un mercado en línea creado para satisfacer esta necesidad, pues permite a la gente alquilar sus casas durante plazos cortos. Estos servicios se ofrecen a un precio relativamente inferior al de los hoteles y en diversas ubicaciones geográficas. Además, personas de todo el mundo prefieren el servicio hogareño y económico.\n",
    "\n",
    "\n",
    "\n",
    "#### Fuente de los datos\n",
    "\n",
    "\n",
    "\n",
    "Puedes obtener el <i>dataset</i> para realizar este proyecto en el siguiente enlace: https://www.kaggle.com/datasets/arianazmoudeh/airbnbopendata\n",
    "\n",
    "\n",
    "\n",
    "Este <i>dataset</i> contiene información sobre los alojamientos, tal como el barrio, el tipo de habitación, el precio, la disponibilidad, las opiniones, los gastos de servicio, la política de cancelación y las normas de uso de la casa.\n",
    "\n",
    "\n",
    "\n",
    "¡Te deseamos lo mejor en tu análisis de los datos de Airbnb!"
   ]
  },
  {
   "cell_type": "markdown",
   "id": "87iYmshDK853",
   "metadata": {
    "id": "87iYmshDK853"
   },
   "source": [
    "## Tarea 1: Carga de datos (Python)\n",
    "\n",
    "\n",
    "\n",
    "1. Lee el fichero csv y cárgarlo en un <i>dataframe</i> de pandas.\n",
    "2. Visualiza las cinco primeras filas de tu <i>dataframe</i>.\n",
    "3. Visualize los tipos de datos de las columnas."
   ]
  },
  {
   "cell_type": "code",
   "execution_count": 113,
   "id": "fc546ee7",
   "metadata": {},
   "outputs": [],
   "source": [
    "import warnings\n",
    "warnings.filterwarnings('ignore')"
   ]
  },
  {
   "cell_type": "markdown",
   "id": "50603a5c",
   "metadata": {},
   "source": [
    "++++ Lee el fichero csv."
   ]
  },
  {
   "cell_type": "code",
   "execution_count": 5,
   "id": "-ikKZ3bYK856",
   "metadata": {
    "id": "-ikKZ3bYK856"
   },
   "outputs": [],
   "source": [
    "import os"
   ]
  },
  {
   "cell_type": "code",
   "execution_count": 6,
   "id": "cc505261",
   "metadata": {},
   "outputs": [
    {
     "data": {
      "text/plain": [
       "'C:\\\\Users\\\\Usuario\\\\JupyterN Projects23'"
      ]
     },
     "execution_count": 6,
     "metadata": {},
     "output_type": "execute_result"
    }
   ],
   "source": [
    "os.getcwd()"
   ]
  },
  {
   "cell_type": "code",
   "execution_count": 7,
   "id": "3601b1c3",
   "metadata": {},
   "outputs": [
    {
     "data": {
      "text/plain": [
       "'C:\\\\Users\\\\Usuario\\\\JupyterN Projects23'"
      ]
     },
     "execution_count": 7,
     "metadata": {},
     "output_type": "execute_result"
    }
   ],
   "source": [
    "dir = os.getcwd()\n",
    "dir"
   ]
  },
  {
   "cell_type": "code",
   "execution_count": 8,
   "id": "de830b81",
   "metadata": {},
   "outputs": [
    {
     "data": {
      "text/plain": [
       "['.ipynb_checkpoints',\n",
       " 'Airbnb_Open_Data1.csv',\n",
       " 'Codigos de Examen Data Analyst IBM.ipynb',\n",
       " 'Dado de 100 Prototipo 1B.ipynb',\n",
       " 'Final_Project_Spanish - V1A.ipynb',\n",
       " 'Final_Project_Spanish - V1B.ipynb',\n",
       " 'Final_Project_Spanish - V1C.ipynb',\n",
       " 'Final_Project_Spanish - V1D.ipynb',\n",
       " 'Final_Project_Spanish_steps.ipynb',\n",
       " 'gui_app.ipynb',\n",
       " 'Proyecto Final AIRBNB 1A.ipynb',\n",
       " 'Tarea Seccion 2 - Ley de los Grandes Numeros.ipynb',\n",
       " 'Testeando Mierdas - Sheriff 1a Session Python IBM23.ipynb',\n",
       " 'Tipos de Variables.ipynb',\n",
       " 'Trabajando con Variables.ipynb',\n",
       " 'Untitled.ipynb',\n",
       " 'Untitled1.ipynb',\n",
       " 'While Loop.ipynb']"
      ]
     },
     "execution_count": 8,
     "metadata": {},
     "output_type": "execute_result"
    }
   ],
   "source": [
    "os.listdir(dir)"
   ]
  },
  {
   "cell_type": "code",
   "execution_count": 9,
   "id": "2617c524",
   "metadata": {},
   "outputs": [],
   "source": [
    "import pandas as pd"
   ]
  },
  {
   "cell_type": "code",
   "execution_count": 10,
   "id": "4be7a1e9",
   "metadata": {},
   "outputs": [
    {
     "name": "stderr",
     "output_type": "stream",
     "text": [
      "C:\\Users\\Usuario\\AppData\\Local\\Temp\\ipykernel_16596\\1961895252.py:1: DtypeWarning: Columns (25) have mixed types. Specify dtype option on import or set low_memory=False.\n",
      "  df = pd.read_csv('Airbnb_Open_Data1.csv')\n"
     ]
    },
    {
     "data": {
      "text/html": [
       "<div>\n",
       "<style scoped>\n",
       "    .dataframe tbody tr th:only-of-type {\n",
       "        vertical-align: middle;\n",
       "    }\n",
       "\n",
       "    .dataframe tbody tr th {\n",
       "        vertical-align: top;\n",
       "    }\n",
       "\n",
       "    .dataframe thead th {\n",
       "        text-align: right;\n",
       "    }\n",
       "</style>\n",
       "<table border=\"1\" class=\"dataframe\">\n",
       "  <thead>\n",
       "    <tr style=\"text-align: right;\">\n",
       "      <th></th>\n",
       "      <th>id</th>\n",
       "      <th>NAME</th>\n",
       "      <th>host id</th>\n",
       "      <th>host_identity_verified</th>\n",
       "      <th>host name</th>\n",
       "      <th>neighbourhood group</th>\n",
       "      <th>neighbourhood</th>\n",
       "      <th>lat</th>\n",
       "      <th>long</th>\n",
       "      <th>country</th>\n",
       "      <th>...</th>\n",
       "      <th>service fee</th>\n",
       "      <th>minimum nights</th>\n",
       "      <th>number of reviews</th>\n",
       "      <th>last review</th>\n",
       "      <th>reviews per month</th>\n",
       "      <th>review rate number</th>\n",
       "      <th>calculated host listings count</th>\n",
       "      <th>availability 365</th>\n",
       "      <th>house_rules</th>\n",
       "      <th>license</th>\n",
       "    </tr>\n",
       "  </thead>\n",
       "  <tbody>\n",
       "    <tr>\n",
       "      <th>0</th>\n",
       "      <td>1001254</td>\n",
       "      <td>Clean &amp; quiet apt home by the park</td>\n",
       "      <td>80014485718</td>\n",
       "      <td>unconfirmed</td>\n",
       "      <td>Madaline</td>\n",
       "      <td>Brooklyn</td>\n",
       "      <td>Kensington</td>\n",
       "      <td>40.64749</td>\n",
       "      <td>-73.97237</td>\n",
       "      <td>United States</td>\n",
       "      <td>...</td>\n",
       "      <td>$193</td>\n",
       "      <td>10.0</td>\n",
       "      <td>9.0</td>\n",
       "      <td>10/19/2021</td>\n",
       "      <td>0.21</td>\n",
       "      <td>4.0</td>\n",
       "      <td>6.0</td>\n",
       "      <td>286.0</td>\n",
       "      <td>Clean up and treat the home the way you'd like...</td>\n",
       "      <td>NaN</td>\n",
       "    </tr>\n",
       "    <tr>\n",
       "      <th>1</th>\n",
       "      <td>1002102</td>\n",
       "      <td>Skylit Midtown Castle</td>\n",
       "      <td>52335172823</td>\n",
       "      <td>verified</td>\n",
       "      <td>Jenna</td>\n",
       "      <td>Manhattan</td>\n",
       "      <td>Midtown</td>\n",
       "      <td>40.75362</td>\n",
       "      <td>-73.98377</td>\n",
       "      <td>United States</td>\n",
       "      <td>...</td>\n",
       "      <td>$28</td>\n",
       "      <td>30.0</td>\n",
       "      <td>45.0</td>\n",
       "      <td>5/21/2022</td>\n",
       "      <td>0.38</td>\n",
       "      <td>4.0</td>\n",
       "      <td>2.0</td>\n",
       "      <td>228.0</td>\n",
       "      <td>Pet friendly but please confirm with me if the...</td>\n",
       "      <td>NaN</td>\n",
       "    </tr>\n",
       "    <tr>\n",
       "      <th>2</th>\n",
       "      <td>1002403</td>\n",
       "      <td>THE VILLAGE OF HARLEM....NEW YORK !</td>\n",
       "      <td>78829239556</td>\n",
       "      <td>NaN</td>\n",
       "      <td>Elise</td>\n",
       "      <td>Manhattan</td>\n",
       "      <td>Harlem</td>\n",
       "      <td>40.80902</td>\n",
       "      <td>-73.94190</td>\n",
       "      <td>United States</td>\n",
       "      <td>...</td>\n",
       "      <td>$124</td>\n",
       "      <td>3.0</td>\n",
       "      <td>0.0</td>\n",
       "      <td>NaN</td>\n",
       "      <td>NaN</td>\n",
       "      <td>5.0</td>\n",
       "      <td>1.0</td>\n",
       "      <td>352.0</td>\n",
       "      <td>I encourage you to use my kitchen, cooking and...</td>\n",
       "      <td>NaN</td>\n",
       "    </tr>\n",
       "    <tr>\n",
       "      <th>3</th>\n",
       "      <td>1002755</td>\n",
       "      <td>NaN</td>\n",
       "      <td>85098326012</td>\n",
       "      <td>unconfirmed</td>\n",
       "      <td>Garry</td>\n",
       "      <td>Brooklyn</td>\n",
       "      <td>Clinton Hill</td>\n",
       "      <td>40.68514</td>\n",
       "      <td>-73.95976</td>\n",
       "      <td>United States</td>\n",
       "      <td>...</td>\n",
       "      <td>$74</td>\n",
       "      <td>30.0</td>\n",
       "      <td>270.0</td>\n",
       "      <td>7/5/2019</td>\n",
       "      <td>4.64</td>\n",
       "      <td>4.0</td>\n",
       "      <td>1.0</td>\n",
       "      <td>322.0</td>\n",
       "      <td>NaN</td>\n",
       "      <td>NaN</td>\n",
       "    </tr>\n",
       "    <tr>\n",
       "      <th>4</th>\n",
       "      <td>1003689</td>\n",
       "      <td>Entire Apt: Spacious Studio/Loft by central park</td>\n",
       "      <td>92037596077</td>\n",
       "      <td>verified</td>\n",
       "      <td>Lyndon</td>\n",
       "      <td>Manhattan</td>\n",
       "      <td>East Harlem</td>\n",
       "      <td>40.79851</td>\n",
       "      <td>-73.94399</td>\n",
       "      <td>United States</td>\n",
       "      <td>...</td>\n",
       "      <td>$41</td>\n",
       "      <td>10.0</td>\n",
       "      <td>9.0</td>\n",
       "      <td>11/19/2018</td>\n",
       "      <td>0.10</td>\n",
       "      <td>3.0</td>\n",
       "      <td>1.0</td>\n",
       "      <td>289.0</td>\n",
       "      <td>Please no smoking in the house, porch or on th...</td>\n",
       "      <td>NaN</td>\n",
       "    </tr>\n",
       "    <tr>\n",
       "      <th>...</th>\n",
       "      <td>...</td>\n",
       "      <td>...</td>\n",
       "      <td>...</td>\n",
       "      <td>...</td>\n",
       "      <td>...</td>\n",
       "      <td>...</td>\n",
       "      <td>...</td>\n",
       "      <td>...</td>\n",
       "      <td>...</td>\n",
       "      <td>...</td>\n",
       "      <td>...</td>\n",
       "      <td>...</td>\n",
       "      <td>...</td>\n",
       "      <td>...</td>\n",
       "      <td>...</td>\n",
       "      <td>...</td>\n",
       "      <td>...</td>\n",
       "      <td>...</td>\n",
       "      <td>...</td>\n",
       "      <td>...</td>\n",
       "      <td>...</td>\n",
       "    </tr>\n",
       "    <tr>\n",
       "      <th>102594</th>\n",
       "      <td>6092437</td>\n",
       "      <td>Spare room in Williamsburg</td>\n",
       "      <td>12312296767</td>\n",
       "      <td>verified</td>\n",
       "      <td>Krik</td>\n",
       "      <td>Brooklyn</td>\n",
       "      <td>Williamsburg</td>\n",
       "      <td>40.70862</td>\n",
       "      <td>-73.94651</td>\n",
       "      <td>United States</td>\n",
       "      <td>...</td>\n",
       "      <td>$169</td>\n",
       "      <td>1.0</td>\n",
       "      <td>0.0</td>\n",
       "      <td>NaN</td>\n",
       "      <td>NaN</td>\n",
       "      <td>3.0</td>\n",
       "      <td>1.0</td>\n",
       "      <td>227.0</td>\n",
       "      <td>No Smoking No Parties or Events of any kind Pl...</td>\n",
       "      <td>NaN</td>\n",
       "    </tr>\n",
       "    <tr>\n",
       "      <th>102595</th>\n",
       "      <td>6092990</td>\n",
       "      <td>Best Location near Columbia U</td>\n",
       "      <td>77864383453</td>\n",
       "      <td>unconfirmed</td>\n",
       "      <td>Mifan</td>\n",
       "      <td>Manhattan</td>\n",
       "      <td>Morningside Heights</td>\n",
       "      <td>40.80460</td>\n",
       "      <td>-73.96545</td>\n",
       "      <td>United States</td>\n",
       "      <td>...</td>\n",
       "      <td>$167</td>\n",
       "      <td>1.0</td>\n",
       "      <td>1.0</td>\n",
       "      <td>7/6/2015</td>\n",
       "      <td>0.02</td>\n",
       "      <td>2.0</td>\n",
       "      <td>2.0</td>\n",
       "      <td>395.0</td>\n",
       "      <td>House rules: Guests agree to the following ter...</td>\n",
       "      <td>NaN</td>\n",
       "    </tr>\n",
       "    <tr>\n",
       "      <th>102596</th>\n",
       "      <td>6093542</td>\n",
       "      <td>Comfy, bright room in Brooklyn</td>\n",
       "      <td>69050334417</td>\n",
       "      <td>unconfirmed</td>\n",
       "      <td>Megan</td>\n",
       "      <td>Brooklyn</td>\n",
       "      <td>Park Slope</td>\n",
       "      <td>40.67505</td>\n",
       "      <td>-73.98045</td>\n",
       "      <td>United States</td>\n",
       "      <td>...</td>\n",
       "      <td>$198</td>\n",
       "      <td>3.0</td>\n",
       "      <td>0.0</td>\n",
       "      <td>NaN</td>\n",
       "      <td>NaN</td>\n",
       "      <td>5.0</td>\n",
       "      <td>1.0</td>\n",
       "      <td>342.0</td>\n",
       "      <td>NaN</td>\n",
       "      <td>NaN</td>\n",
       "    </tr>\n",
       "    <tr>\n",
       "      <th>102597</th>\n",
       "      <td>6094094</td>\n",
       "      <td>Big Studio-One Stop from Midtown</td>\n",
       "      <td>11160591270</td>\n",
       "      <td>unconfirmed</td>\n",
       "      <td>Christopher</td>\n",
       "      <td>Queens</td>\n",
       "      <td>Long Island City</td>\n",
       "      <td>40.74989</td>\n",
       "      <td>-73.93777</td>\n",
       "      <td>United States</td>\n",
       "      <td>...</td>\n",
       "      <td>$109</td>\n",
       "      <td>2.0</td>\n",
       "      <td>5.0</td>\n",
       "      <td>10/11/2015</td>\n",
       "      <td>0.10</td>\n",
       "      <td>3.0</td>\n",
       "      <td>1.0</td>\n",
       "      <td>386.0</td>\n",
       "      <td>NaN</td>\n",
       "      <td>NaN</td>\n",
       "    </tr>\n",
       "    <tr>\n",
       "      <th>102598</th>\n",
       "      <td>6094647</td>\n",
       "      <td>585 sf Luxury Studio</td>\n",
       "      <td>68170633372</td>\n",
       "      <td>unconfirmed</td>\n",
       "      <td>Rebecca</td>\n",
       "      <td>Manhattan</td>\n",
       "      <td>Upper West Side</td>\n",
       "      <td>40.76807</td>\n",
       "      <td>-73.98342</td>\n",
       "      <td>United States</td>\n",
       "      <td>...</td>\n",
       "      <td>$206</td>\n",
       "      <td>1.0</td>\n",
       "      <td>0.0</td>\n",
       "      <td>NaN</td>\n",
       "      <td>NaN</td>\n",
       "      <td>3.0</td>\n",
       "      <td>1.0</td>\n",
       "      <td>69.0</td>\n",
       "      <td>NaN</td>\n",
       "      <td>NaN</td>\n",
       "    </tr>\n",
       "  </tbody>\n",
       "</table>\n",
       "<p>102599 rows × 26 columns</p>\n",
       "</div>"
      ],
      "text/plain": [
       "             id                                              NAME  \\\n",
       "0       1001254                Clean & quiet apt home by the park   \n",
       "1       1002102                             Skylit Midtown Castle   \n",
       "2       1002403               THE VILLAGE OF HARLEM....NEW YORK !   \n",
       "3       1002755                                               NaN   \n",
       "4       1003689  Entire Apt: Spacious Studio/Loft by central park   \n",
       "...         ...                                               ...   \n",
       "102594  6092437                        Spare room in Williamsburg   \n",
       "102595  6092990                     Best Location near Columbia U   \n",
       "102596  6093542                    Comfy, bright room in Brooklyn   \n",
       "102597  6094094                  Big Studio-One Stop from Midtown   \n",
       "102598  6094647                              585 sf Luxury Studio   \n",
       "\n",
       "            host id host_identity_verified    host name neighbourhood group  \\\n",
       "0       80014485718            unconfirmed     Madaline            Brooklyn   \n",
       "1       52335172823               verified        Jenna           Manhattan   \n",
       "2       78829239556                    NaN        Elise           Manhattan   \n",
       "3       85098326012            unconfirmed        Garry            Brooklyn   \n",
       "4       92037596077               verified       Lyndon           Manhattan   \n",
       "...             ...                    ...          ...                 ...   \n",
       "102594  12312296767               verified         Krik            Brooklyn   \n",
       "102595  77864383453            unconfirmed        Mifan           Manhattan   \n",
       "102596  69050334417            unconfirmed        Megan            Brooklyn   \n",
       "102597  11160591270            unconfirmed  Christopher              Queens   \n",
       "102598  68170633372            unconfirmed      Rebecca           Manhattan   \n",
       "\n",
       "              neighbourhood       lat      long        country  ...  \\\n",
       "0                Kensington  40.64749 -73.97237  United States  ...   \n",
       "1                   Midtown  40.75362 -73.98377  United States  ...   \n",
       "2                    Harlem  40.80902 -73.94190  United States  ...   \n",
       "3              Clinton Hill  40.68514 -73.95976  United States  ...   \n",
       "4               East Harlem  40.79851 -73.94399  United States  ...   \n",
       "...                     ...       ...       ...            ...  ...   \n",
       "102594         Williamsburg  40.70862 -73.94651  United States  ...   \n",
       "102595  Morningside Heights  40.80460 -73.96545  United States  ...   \n",
       "102596           Park Slope  40.67505 -73.98045  United States  ...   \n",
       "102597     Long Island City  40.74989 -73.93777  United States  ...   \n",
       "102598      Upper West Side  40.76807 -73.98342  United States  ...   \n",
       "\n",
       "       service fee minimum nights number of reviews last review  \\\n",
       "0            $193            10.0               9.0  10/19/2021   \n",
       "1             $28            30.0              45.0   5/21/2022   \n",
       "2            $124             3.0               0.0         NaN   \n",
       "3             $74            30.0             270.0    7/5/2019   \n",
       "4             $41            10.0               9.0  11/19/2018   \n",
       "...            ...            ...               ...         ...   \n",
       "102594       $169             1.0               0.0         NaN   \n",
       "102595       $167             1.0               1.0    7/6/2015   \n",
       "102596       $198             3.0               0.0         NaN   \n",
       "102597       $109             2.0               5.0  10/11/2015   \n",
       "102598       $206             1.0               0.0         NaN   \n",
       "\n",
       "        reviews per month review rate number calculated host listings count  \\\n",
       "0                    0.21                4.0                            6.0   \n",
       "1                    0.38                4.0                            2.0   \n",
       "2                     NaN                5.0                            1.0   \n",
       "3                    4.64                4.0                            1.0   \n",
       "4                    0.10                3.0                            1.0   \n",
       "...                   ...                ...                            ...   \n",
       "102594                NaN                3.0                            1.0   \n",
       "102595               0.02                2.0                            2.0   \n",
       "102596                NaN                5.0                            1.0   \n",
       "102597               0.10                3.0                            1.0   \n",
       "102598                NaN                3.0                            1.0   \n",
       "\n",
       "        availability 365                                        house_rules  \\\n",
       "0                  286.0  Clean up and treat the home the way you'd like...   \n",
       "1                  228.0  Pet friendly but please confirm with me if the...   \n",
       "2                  352.0  I encourage you to use my kitchen, cooking and...   \n",
       "3                  322.0                                                NaN   \n",
       "4                  289.0  Please no smoking in the house, porch or on th...   \n",
       "...                  ...                                                ...   \n",
       "102594             227.0  No Smoking No Parties or Events of any kind Pl...   \n",
       "102595             395.0  House rules: Guests agree to the following ter...   \n",
       "102596             342.0                                                NaN   \n",
       "102597             386.0                                                NaN   \n",
       "102598              69.0                                                NaN   \n",
       "\n",
       "       license  \n",
       "0          NaN  \n",
       "1          NaN  \n",
       "2          NaN  \n",
       "3          NaN  \n",
       "4          NaN  \n",
       "...        ...  \n",
       "102594     NaN  \n",
       "102595     NaN  \n",
       "102596     NaN  \n",
       "102597     NaN  \n",
       "102598     NaN  \n",
       "\n",
       "[102599 rows x 26 columns]"
      ]
     },
     "execution_count": 10,
     "metadata": {},
     "output_type": "execute_result"
    }
   ],
   "source": [
    "df = pd.read_csv('Airbnb_Open_Data1.csv')\n",
    "df"
   ]
  },
  {
   "cell_type": "markdown",
   "id": "3032e51c",
   "metadata": {},
   "source": [
    "++++ Muestra las primeras 5 filas."
   ]
  },
  {
   "cell_type": "code",
   "execution_count": 11,
   "id": "RWEtAhDbK858",
   "metadata": {
    "id": "RWEtAhDbK858"
   },
   "outputs": [
    {
     "data": {
      "text/html": [
       "<div>\n",
       "<style scoped>\n",
       "    .dataframe tbody tr th:only-of-type {\n",
       "        vertical-align: middle;\n",
       "    }\n",
       "\n",
       "    .dataframe tbody tr th {\n",
       "        vertical-align: top;\n",
       "    }\n",
       "\n",
       "    .dataframe thead th {\n",
       "        text-align: right;\n",
       "    }\n",
       "</style>\n",
       "<table border=\"1\" class=\"dataframe\">\n",
       "  <thead>\n",
       "    <tr style=\"text-align: right;\">\n",
       "      <th></th>\n",
       "      <th>id</th>\n",
       "      <th>NAME</th>\n",
       "      <th>host id</th>\n",
       "      <th>host_identity_verified</th>\n",
       "      <th>host name</th>\n",
       "      <th>neighbourhood group</th>\n",
       "      <th>neighbourhood</th>\n",
       "      <th>lat</th>\n",
       "      <th>long</th>\n",
       "      <th>country</th>\n",
       "      <th>...</th>\n",
       "      <th>service fee</th>\n",
       "      <th>minimum nights</th>\n",
       "      <th>number of reviews</th>\n",
       "      <th>last review</th>\n",
       "      <th>reviews per month</th>\n",
       "      <th>review rate number</th>\n",
       "      <th>calculated host listings count</th>\n",
       "      <th>availability 365</th>\n",
       "      <th>house_rules</th>\n",
       "      <th>license</th>\n",
       "    </tr>\n",
       "  </thead>\n",
       "  <tbody>\n",
       "    <tr>\n",
       "      <th>0</th>\n",
       "      <td>1001254</td>\n",
       "      <td>Clean &amp; quiet apt home by the park</td>\n",
       "      <td>80014485718</td>\n",
       "      <td>unconfirmed</td>\n",
       "      <td>Madaline</td>\n",
       "      <td>Brooklyn</td>\n",
       "      <td>Kensington</td>\n",
       "      <td>40.64749</td>\n",
       "      <td>-73.97237</td>\n",
       "      <td>United States</td>\n",
       "      <td>...</td>\n",
       "      <td>$193</td>\n",
       "      <td>10.0</td>\n",
       "      <td>9.0</td>\n",
       "      <td>10/19/2021</td>\n",
       "      <td>0.21</td>\n",
       "      <td>4.0</td>\n",
       "      <td>6.0</td>\n",
       "      <td>286.0</td>\n",
       "      <td>Clean up and treat the home the way you'd like...</td>\n",
       "      <td>NaN</td>\n",
       "    </tr>\n",
       "    <tr>\n",
       "      <th>1</th>\n",
       "      <td>1002102</td>\n",
       "      <td>Skylit Midtown Castle</td>\n",
       "      <td>52335172823</td>\n",
       "      <td>verified</td>\n",
       "      <td>Jenna</td>\n",
       "      <td>Manhattan</td>\n",
       "      <td>Midtown</td>\n",
       "      <td>40.75362</td>\n",
       "      <td>-73.98377</td>\n",
       "      <td>United States</td>\n",
       "      <td>...</td>\n",
       "      <td>$28</td>\n",
       "      <td>30.0</td>\n",
       "      <td>45.0</td>\n",
       "      <td>5/21/2022</td>\n",
       "      <td>0.38</td>\n",
       "      <td>4.0</td>\n",
       "      <td>2.0</td>\n",
       "      <td>228.0</td>\n",
       "      <td>Pet friendly but please confirm with me if the...</td>\n",
       "      <td>NaN</td>\n",
       "    </tr>\n",
       "    <tr>\n",
       "      <th>2</th>\n",
       "      <td>1002403</td>\n",
       "      <td>THE VILLAGE OF HARLEM....NEW YORK !</td>\n",
       "      <td>78829239556</td>\n",
       "      <td>NaN</td>\n",
       "      <td>Elise</td>\n",
       "      <td>Manhattan</td>\n",
       "      <td>Harlem</td>\n",
       "      <td>40.80902</td>\n",
       "      <td>-73.94190</td>\n",
       "      <td>United States</td>\n",
       "      <td>...</td>\n",
       "      <td>$124</td>\n",
       "      <td>3.0</td>\n",
       "      <td>0.0</td>\n",
       "      <td>NaN</td>\n",
       "      <td>NaN</td>\n",
       "      <td>5.0</td>\n",
       "      <td>1.0</td>\n",
       "      <td>352.0</td>\n",
       "      <td>I encourage you to use my kitchen, cooking and...</td>\n",
       "      <td>NaN</td>\n",
       "    </tr>\n",
       "    <tr>\n",
       "      <th>3</th>\n",
       "      <td>1002755</td>\n",
       "      <td>NaN</td>\n",
       "      <td>85098326012</td>\n",
       "      <td>unconfirmed</td>\n",
       "      <td>Garry</td>\n",
       "      <td>Brooklyn</td>\n",
       "      <td>Clinton Hill</td>\n",
       "      <td>40.68514</td>\n",
       "      <td>-73.95976</td>\n",
       "      <td>United States</td>\n",
       "      <td>...</td>\n",
       "      <td>$74</td>\n",
       "      <td>30.0</td>\n",
       "      <td>270.0</td>\n",
       "      <td>7/5/2019</td>\n",
       "      <td>4.64</td>\n",
       "      <td>4.0</td>\n",
       "      <td>1.0</td>\n",
       "      <td>322.0</td>\n",
       "      <td>NaN</td>\n",
       "      <td>NaN</td>\n",
       "    </tr>\n",
       "    <tr>\n",
       "      <th>4</th>\n",
       "      <td>1003689</td>\n",
       "      <td>Entire Apt: Spacious Studio/Loft by central park</td>\n",
       "      <td>92037596077</td>\n",
       "      <td>verified</td>\n",
       "      <td>Lyndon</td>\n",
       "      <td>Manhattan</td>\n",
       "      <td>East Harlem</td>\n",
       "      <td>40.79851</td>\n",
       "      <td>-73.94399</td>\n",
       "      <td>United States</td>\n",
       "      <td>...</td>\n",
       "      <td>$41</td>\n",
       "      <td>10.0</td>\n",
       "      <td>9.0</td>\n",
       "      <td>11/19/2018</td>\n",
       "      <td>0.10</td>\n",
       "      <td>3.0</td>\n",
       "      <td>1.0</td>\n",
       "      <td>289.0</td>\n",
       "      <td>Please no smoking in the house, porch or on th...</td>\n",
       "      <td>NaN</td>\n",
       "    </tr>\n",
       "  </tbody>\n",
       "</table>\n",
       "<p>5 rows × 26 columns</p>\n",
       "</div>"
      ],
      "text/plain": [
       "        id                                              NAME      host id  \\\n",
       "0  1001254                Clean & quiet apt home by the park  80014485718   \n",
       "1  1002102                             Skylit Midtown Castle  52335172823   \n",
       "2  1002403               THE VILLAGE OF HARLEM....NEW YORK !  78829239556   \n",
       "3  1002755                                               NaN  85098326012   \n",
       "4  1003689  Entire Apt: Spacious Studio/Loft by central park  92037596077   \n",
       "\n",
       "  host_identity_verified host name neighbourhood group neighbourhood  \\\n",
       "0            unconfirmed  Madaline            Brooklyn    Kensington   \n",
       "1               verified     Jenna           Manhattan       Midtown   \n",
       "2                    NaN     Elise           Manhattan        Harlem   \n",
       "3            unconfirmed     Garry            Brooklyn  Clinton Hill   \n",
       "4               verified    Lyndon           Manhattan   East Harlem   \n",
       "\n",
       "        lat      long        country  ... service fee minimum nights  \\\n",
       "0  40.64749 -73.97237  United States  ...       $193            10.0   \n",
       "1  40.75362 -73.98377  United States  ...        $28            30.0   \n",
       "2  40.80902 -73.94190  United States  ...       $124             3.0   \n",
       "3  40.68514 -73.95976  United States  ...        $74            30.0   \n",
       "4  40.79851 -73.94399  United States  ...        $41            10.0   \n",
       "\n",
       "  number of reviews last review  reviews per month review rate number  \\\n",
       "0               9.0  10/19/2021               0.21                4.0   \n",
       "1              45.0   5/21/2022               0.38                4.0   \n",
       "2               0.0         NaN                NaN                5.0   \n",
       "3             270.0    7/5/2019               4.64                4.0   \n",
       "4               9.0  11/19/2018               0.10                3.0   \n",
       "\n",
       "  calculated host listings count  availability 365  \\\n",
       "0                            6.0             286.0   \n",
       "1                            2.0             228.0   \n",
       "2                            1.0             352.0   \n",
       "3                            1.0             322.0   \n",
       "4                            1.0             289.0   \n",
       "\n",
       "                                         house_rules license  \n",
       "0  Clean up and treat the home the way you'd like...     NaN  \n",
       "1  Pet friendly but please confirm with me if the...     NaN  \n",
       "2  I encourage you to use my kitchen, cooking and...     NaN  \n",
       "3                                                NaN     NaN  \n",
       "4  Please no smoking in the house, porch or on th...     NaN  \n",
       "\n",
       "[5 rows x 26 columns]"
      ]
     },
     "execution_count": 11,
     "metadata": {},
     "output_type": "execute_result"
    }
   ],
   "source": [
    "df.head()"
   ]
  },
  {
   "cell_type": "markdown",
   "id": "47472095",
   "metadata": {},
   "source": [
    "++++ Muestra los tipos de datos."
   ]
  },
  {
   "cell_type": "code",
   "execution_count": 12,
   "id": "WuceSXM-K859",
   "metadata": {
    "id": "WuceSXM-K859"
   },
   "outputs": [
    {
     "data": {
      "text/plain": [
       "id                                  int64\n",
       "NAME                               object\n",
       "host id                             int64\n",
       "host_identity_verified             object\n",
       "host name                          object\n",
       "neighbourhood group                object\n",
       "neighbourhood                      object\n",
       "lat                               float64\n",
       "long                              float64\n",
       "country                            object\n",
       "country code                       object\n",
       "instant_bookable                   object\n",
       "cancellation_policy                object\n",
       "room type                          object\n",
       "Construction year                 float64\n",
       "price                              object\n",
       "service fee                        object\n",
       "minimum nights                    float64\n",
       "number of reviews                 float64\n",
       "last review                        object\n",
       "reviews per month                 float64\n",
       "review rate number                float64\n",
       "calculated host listings count    float64\n",
       "availability 365                  float64\n",
       "house_rules                        object\n",
       "license                            object\n",
       "dtype: object"
      ]
     },
     "execution_count": 12,
     "metadata": {},
     "output_type": "execute_result"
    }
   ],
   "source": [
    "df.dtypes"
   ]
  },
  {
   "cell_type": "code",
   "execution_count": 13,
   "id": "8659dae5",
   "metadata": {},
   "outputs": [
    {
     "name": "stdout",
     "output_type": "stream",
     "text": [
      "<class 'pandas.core.frame.DataFrame'>\n",
      "RangeIndex: 102599 entries, 0 to 102598\n",
      "Data columns (total 26 columns):\n",
      " #   Column                          Non-Null Count   Dtype  \n",
      "---  ------                          --------------   -----  \n",
      " 0   id                              102599 non-null  int64  \n",
      " 1   NAME                            102349 non-null  object \n",
      " 2   host id                         102599 non-null  int64  \n",
      " 3   host_identity_verified          102310 non-null  object \n",
      " 4   host name                       102193 non-null  object \n",
      " 5   neighbourhood group             102570 non-null  object \n",
      " 6   neighbourhood                   102583 non-null  object \n",
      " 7   lat                             102591 non-null  float64\n",
      " 8   long                            102591 non-null  float64\n",
      " 9   country                         102067 non-null  object \n",
      " 10  country code                    102468 non-null  object \n",
      " 11  instant_bookable                102494 non-null  object \n",
      " 12  cancellation_policy             102523 non-null  object \n",
      " 13  room type                       102599 non-null  object \n",
      " 14  Construction year               102385 non-null  float64\n",
      " 15  price                           102352 non-null  object \n",
      " 16  service fee                     102326 non-null  object \n",
      " 17  minimum nights                  102190 non-null  float64\n",
      " 18  number of reviews               102416 non-null  float64\n",
      " 19  last review                     86706 non-null   object \n",
      " 20  reviews per month               86720 non-null   float64\n",
      " 21  review rate number              102273 non-null  float64\n",
      " 22  calculated host listings count  102280 non-null  float64\n",
      " 23  availability 365                102151 non-null  float64\n",
      " 24  house_rules                     50468 non-null   object \n",
      " 25  license                         2 non-null       object \n",
      "dtypes: float64(9), int64(2), object(15)\n",
      "memory usage: 20.4+ MB\n"
     ]
    }
   ],
   "source": [
    "df.info()"
   ]
  },
  {
   "cell_type": "markdown",
   "id": "cAkB_QvkK859",
   "metadata": {
    "id": "cAkB_QvkK859"
   },
   "source": [
    "## Tarea 2a: Limpieza de datos (cualquier herramienta)\n",
    "\n",
    "\n",
    "1. Elimina las columnas no deseadas del <i>dataframe</i>, entre ellas se incluyen `host id`, `id`, `country` y `country code`.\n",
    "2. Indica la razón por la cual se han eliminado estas columnas para tu análisis de datos.\n",
    "\n",
    "\n",
    "Si utilizas Python para este ejercicio, incluye el código que hayas utilizado en las celdas siguientes. Si utilizas cualquier otra herramienta, incluye capturas de pantalla tomadas antes y después de eliminar las columnas."
   ]
  },
  {
   "cell_type": "markdown",
   "id": "82b740ae",
   "metadata": {},
   "source": [
    "++++ **Eliminamos estas columnas** porque para el problema que nos piden solventar **no son incialmente necesarias**.\n",
    "Si tuvieramos que hacer un Join o un Blend entre bases de datos nos serian más útiles, pero en este caso lo único que\n",
    "conseguimos es que **nuestro archivo pese mas** y por tanto sea mas engorroso de manipular."
   ]
  },
  {
   "cell_type": "code",
   "execution_count": 15,
   "id": "DoduWcK9K85-",
   "metadata": {
    "id": "DoduWcK9K85-"
   },
   "outputs": [],
   "source": [
    "df.drop(columns = {'host id', 'id', 'country', 'country code'}, axis=1, inplace = True)"
   ]
  },
  {
   "cell_type": "code",
   "execution_count": 16,
   "id": "cEvRIZhQK85-",
   "metadata": {
    "id": "cEvRIZhQK85-"
   },
   "outputs": [
    {
     "data": {
      "text/plain": [
       "Index(['NAME', 'host_identity_verified', 'host name', 'neighbourhood group',\n",
       "       'neighbourhood', 'lat', 'long', 'instant_bookable',\n",
       "       'cancellation_policy', 'room type', 'Construction year', 'price',\n",
       "       'service fee', 'minimum nights', 'number of reviews', 'last review',\n",
       "       'reviews per month', 'review rate number',\n",
       "       'calculated host listings count', 'availability 365', 'house_rules',\n",
       "       'license'],\n",
       "      dtype='object')"
      ]
     },
     "execution_count": 16,
     "metadata": {},
     "output_type": "execute_result"
    }
   ],
   "source": [
    "df.columns # Podemos ver que las columnas solicitadas han sido eliminadas."
   ]
  },
  {
   "cell_type": "markdown",
   "id": "8v34rhNaK85_",
   "metadata": {
    "id": "8v34rhNaK85_"
   },
   "source": [
    "## Tarea 2b: Limpieza de datos (Python)\n",
    "\n",
    "\n",
    "- Compueba si hay valores nulos y muestra el recuento en orden ascendente. **Si faltan valores, imputa los valores como consideres.**\n",
    "- Comprueba si hay valores duplicados y elimínalos.\n",
    "- Muestra el número total de registros antes y después de eliminar los duplicados."
   ]
  },
  {
   "cell_type": "markdown",
   "id": "24e9ba6f",
   "metadata": {},
   "source": [
    "++++ ## Comprueba si hay valores nulos y muestra el recuento en orden ascendente."
   ]
  },
  {
   "cell_type": "code",
   "execution_count": 17,
   "id": "Z2MfBKnyK86A",
   "metadata": {
    "id": "Z2MfBKnyK86A"
   },
   "outputs": [
    {
     "data": {
      "text/plain": [
       "room type                              0\n",
       "lat                                    8\n",
       "long                                   8\n",
       "neighbourhood                         16\n",
       "neighbourhood group                   29\n",
       "cancellation_policy                   76\n",
       "instant_bookable                     105\n",
       "number of reviews                    183\n",
       "Construction year                    214\n",
       "price                                247\n",
       "NAME                                 250\n",
       "service fee                          273\n",
       "host_identity_verified               289\n",
       "calculated host listings count       319\n",
       "review rate number                   326\n",
       "host name                            406\n",
       "minimum nights                       409\n",
       "availability 365                     448\n",
       "reviews per month                  15879\n",
       "last review                        15893\n",
       "house_rules                        52131\n",
       "license                           102597\n",
       "dtype: int64"
      ]
     },
     "execution_count": 17,
     "metadata": {},
     "output_type": "execute_result"
    }
   ],
   "source": [
    "df.isnull().sum().sort_values(ascending=True)"
   ]
  },
  {
   "cell_type": "code",
   "execution_count": 18,
   "id": "62bf4857",
   "metadata": {},
   "outputs": [],
   "source": [
    "### Tenemos que cambiar los null con la funcion .fillna. Los Categoricos con la Moda y los Numericos con la Media o Mediana.\n",
    "### con una sola columna: df['neighbourhood'].fillna(df['neighbourhood'].mode()[0], inplace=True)\n",
    "\n",
    "for col in df.columns:  ## Hacemos un ciclo For para Iterar por todas las columnas y hacerlo de forma masiva.\n",
    "    if (df[col].dtype == 'O') :  ## Definimos el If para hacerlo por las columnas Categoricas usando la Moda.\n",
    "        df[col].fillna(df[col].mode()[0], inplace=True)\n",
    "        \n",
    "    else: ## Definimos el Else para hacerlo por el resto de columnas que no sean Categoricas (Por ende, Numericas) usando la Media.\n",
    "        df[col].fillna(df[col].mean(), inplace=True)"
   ]
  },
  {
   "cell_type": "code",
   "execution_count": 19,
   "id": "d748123c",
   "metadata": {},
   "outputs": [
    {
     "data": {
      "text/plain": [
       "<bound method Series.sort_values of NAME                              0\n",
       "host_identity_verified            0\n",
       "host name                         0\n",
       "neighbourhood group               0\n",
       "neighbourhood                     0\n",
       "lat                               0\n",
       "long                              0\n",
       "instant_bookable                  0\n",
       "cancellation_policy               0\n",
       "room type                         0\n",
       "Construction year                 0\n",
       "price                             0\n",
       "service fee                       0\n",
       "minimum nights                    0\n",
       "number of reviews                 0\n",
       "last review                       0\n",
       "reviews per month                 0\n",
       "review rate number                0\n",
       "calculated host listings count    0\n",
       "availability 365                  0\n",
       "house_rules                       0\n",
       "license                           0\n",
       "dtype: int64>"
      ]
     },
     "execution_count": 19,
     "metadata": {},
     "output_type": "execute_result"
    }
   ],
   "source": [
    "df.isnull().sum().sort_values # Comprobamos que ya no hay valores null."
   ]
  },
  {
   "cell_type": "code",
   "execution_count": 20,
   "id": "a013a435",
   "metadata": {},
   "outputs": [
    {
     "name": "stdout",
     "output_type": "stream",
     "text": [
      "<class 'pandas.core.frame.DataFrame'>\n",
      "RangeIndex: 102599 entries, 0 to 102598\n",
      "Data columns (total 22 columns):\n",
      " #   Column                          Non-Null Count   Dtype  \n",
      "---  ------                          --------------   -----  \n",
      " 0   NAME                            102599 non-null  object \n",
      " 1   host_identity_verified          102599 non-null  object \n",
      " 2   host name                       102599 non-null  object \n",
      " 3   neighbourhood group             102599 non-null  object \n",
      " 4   neighbourhood                   102599 non-null  object \n",
      " 5   lat                             102599 non-null  float64\n",
      " 6   long                            102599 non-null  float64\n",
      " 7   instant_bookable                102599 non-null  bool   \n",
      " 8   cancellation_policy             102599 non-null  object \n",
      " 9   room type                       102599 non-null  object \n",
      " 10  Construction year               102599 non-null  float64\n",
      " 11  price                           102599 non-null  object \n",
      " 12  service fee                     102599 non-null  object \n",
      " 13  minimum nights                  102599 non-null  float64\n",
      " 14  number of reviews               102599 non-null  float64\n",
      " 15  last review                     102599 non-null  object \n",
      " 16  reviews per month               102599 non-null  float64\n",
      " 17  review rate number              102599 non-null  float64\n",
      " 18  calculated host listings count  102599 non-null  float64\n",
      " 19  availability 365                102599 non-null  float64\n",
      " 20  house_rules                     102599 non-null  object \n",
      " 21  license                         102599 non-null  object \n",
      "dtypes: bool(1), float64(9), object(12)\n",
      "memory usage: 16.5+ MB\n"
     ]
    }
   ],
   "source": [
    "df.info() # Hacemos un DoubleCheck con df.info"
   ]
  },
  {
   "cell_type": "markdown",
   "id": "eafdd066",
   "metadata": {},
   "source": [
    "++++ Comprueba si hay valores duplicados y elimínalos."
   ]
  },
  {
   "cell_type": "code",
   "execution_count": 21,
   "id": "-huqnzKlK86A",
   "metadata": {
    "id": "-huqnzKlK86A"
   },
   "outputs": [
    {
     "data": {
      "text/plain": [
       "3453"
      ]
     },
     "execution_count": 21,
     "metadata": {},
     "output_type": "execute_result"
    }
   ],
   "source": [
    "df.duplicated().sum() #Miramos si hay duplicados."
   ]
  },
  {
   "cell_type": "code",
   "execution_count": 22,
   "id": "95c421c3",
   "metadata": {},
   "outputs": [],
   "source": [
    "df.drop_duplicates(inplace=True) #Borramos los valores duplicados."
   ]
  },
  {
   "cell_type": "markdown",
   "id": "6dd24b54",
   "metadata": {},
   "source": [
    "++++ Muestra el número total de registros antes y después de eliminar los duplicados."
   ]
  },
  {
   "cell_type": "code",
   "execution_count": 23,
   "id": "pJDuUXTTK86A",
   "metadata": {
    "id": "pJDuUXTTK86A"
   },
   "outputs": [
    {
     "data": {
      "text/plain": [
       "0"
      ]
     },
     "execution_count": 23,
     "metadata": {},
     "output_type": "execute_result"
    }
   ],
   "source": [
    "df.duplicated().sum() #Volvemos a mirar los duplicados para comprobar que ya estan en 0."
   ]
  },
  {
   "cell_type": "markdown",
   "id": "jI9H0IAEK86B",
   "metadata": {
    "id": "jI9H0IAEK86B"
   },
   "source": [
    "## Tarea 3: Transformación de datos (cualquier herramienta)\n",
    "\n",
    "\n",
    "\n",
    "\n",
    "\n",
    "- Cambia el nombre de la columna `availability 365` a `days_booked`.\n",
    "- Convierte todos los nombres de columna a minúsculas y sustituye los espacios en los nombres de columna por un guión bajo \"_\".\n",
    "- Elimina el signo de dólares y la coma de las columnas `price` y `service_fee`. Si es necesario, convierte estas dos columnas al tipo de datos adecuado.\n",
    "\n",
    "\n",
    "\n",
    "Si utilizas Python para este ejercicio, incluye el código que hayas utilizado en las celdas siguientes. Si utilizas cualquier otra herramienta, incluye capturas de pantalla de tu trabajo."
   ]
  },
  {
   "cell_type": "code",
   "execution_count": 24,
   "id": "cfc38a62",
   "metadata": {},
   "outputs": [
    {
     "data": {
      "text/plain": [
       "Index(['NAME', 'host_identity_verified', 'host name', 'neighbourhood group',\n",
       "       'neighbourhood', 'lat', 'long', 'instant_bookable',\n",
       "       'cancellation_policy', 'room type', 'Construction year', 'price',\n",
       "       'service fee', 'minimum nights', 'number of reviews', 'last review',\n",
       "       'reviews per month', 'review rate number',\n",
       "       'calculated host listings count', 'availability 365', 'house_rules',\n",
       "       'license'],\n",
       "      dtype='object')"
      ]
     },
     "execution_count": 24,
     "metadata": {},
     "output_type": "execute_result"
    }
   ],
   "source": [
    "df.columns"
   ]
  },
  {
   "cell_type": "markdown",
   "id": "aa6a8275",
   "metadata": {},
   "source": [
    "++++ Cambia el nombre de la columna."
   ]
  },
  {
   "cell_type": "code",
   "execution_count": 25,
   "id": "dzJpmYvhK86B",
   "metadata": {
    "id": "dzJpmYvhK86B"
   },
   "outputs": [],
   "source": [
    "df.rename(columns={'availability 365': 'days_booked'}, inplace=True)"
   ]
  },
  {
   "cell_type": "code",
   "execution_count": 26,
   "id": "3bf74823",
   "metadata": {},
   "outputs": [
    {
     "data": {
      "text/plain": [
       "Index(['NAME', 'host_identity_verified', 'host name', 'neighbourhood group',\n",
       "       'neighbourhood', 'lat', 'long', 'instant_bookable',\n",
       "       'cancellation_policy', 'room type', 'Construction year', 'price',\n",
       "       'service fee', 'minimum nights', 'number of reviews', 'last review',\n",
       "       'reviews per month', 'review rate number',\n",
       "       'calculated host listings count', 'days_booked', 'house_rules',\n",
       "       'license'],\n",
       "      dtype='object')"
      ]
     },
     "execution_count": 26,
     "metadata": {},
     "output_type": "execute_result"
    }
   ],
   "source": [
    "df.columns"
   ]
  },
  {
   "cell_type": "markdown",
   "id": "1a153af6",
   "metadata": {},
   "source": [
    "++++ Convierte todos los nombres de columna a minúsculas y sustituye los espacios por un guión bajo \"_\"."
   ]
  },
  {
   "cell_type": "code",
   "execution_count": 27,
   "id": "KqsgZ1aBK86C",
   "metadata": {
    "id": "KqsgZ1aBK86C"
   },
   "outputs": [],
   "source": [
    "df.columns = [col.lower().replace(\" \",\"_\") for col in df.columns] #Aplicamos .lower() para cambiar a minusculas y .replace()\n",
    "                                                                  # para reemplazar un caracter por otro, e iteramos por todas\n",
    "                                                                  # las columnas con un for + col."
   ]
  },
  {
   "cell_type": "code",
   "execution_count": 28,
   "id": "75586006",
   "metadata": {},
   "outputs": [
    {
     "data": {
      "text/plain": [
       "Index(['name', 'host_identity_verified', 'host_name', 'neighbourhood_group',\n",
       "       'neighbourhood', 'lat', 'long', 'instant_bookable',\n",
       "       'cancellation_policy', 'room_type', 'construction_year', 'price',\n",
       "       'service_fee', 'minimum_nights', 'number_of_reviews', 'last_review',\n",
       "       'reviews_per_month', 'review_rate_number',\n",
       "       'calculated_host_listings_count', 'days_booked', 'house_rules',\n",
       "       'license'],\n",
       "      dtype='object')"
      ]
     },
     "execution_count": 28,
     "metadata": {},
     "output_type": "execute_result"
    }
   ],
   "source": [
    "df.columns"
   ]
  },
  {
   "cell_type": "markdown",
   "id": "d4d10a75",
   "metadata": {},
   "source": [
    "++++ Elimina el signo de dólares y la coma de las columnas price y service_fee. Si es necesario, convierte estas dos columnas al tipo de datos adecuado."
   ]
  },
  {
   "cell_type": "code",
   "execution_count": 29,
   "id": "m66wCpyoK86C",
   "metadata": {
    "id": "m66wCpyoK86C"
   },
   "outputs": [],
   "source": [
    "### Para ello vamos a crear una funcion utilizando def para que cuando encuentre \"$\"y/o \",\" los cambie por nada: \"\" .\n",
    "\n",
    "def clean_dolcom(value):\n",
    "    if pd.isna(value):\n",
    "        return np.NaN\n",
    "    else:\n",
    "        return float(value.replace(\"$\", \"\").replace(\",\", \"\"))"
   ]
  },
  {
   "cell_type": "code",
   "execution_count": 30,
   "id": "c6dd945f",
   "metadata": {},
   "outputs": [
    {
     "data": {
      "text/plain": [
       "0          966.0\n",
       "1          142.0\n",
       "2          620.0\n",
       "3          368.0\n",
       "4          204.0\n",
       "           ...  \n",
       "102053     696.0\n",
       "102054     909.0\n",
       "102055     387.0\n",
       "102056     848.0\n",
       "102057    1128.0\n",
       "Name: price, Length: 99146, dtype: float64"
      ]
     },
     "execution_count": 30,
     "metadata": {},
     "output_type": "execute_result"
    }
   ],
   "source": [
    "# Aplicamos nuestra nueva funcion clean_dolcom a la columna: 'price'\n",
    "\n",
    "df['price'] = df['price'].apply(lambda x: clean_dolcom(x))\n",
    "df['price'] "
   ]
  },
  {
   "cell_type": "code",
   "execution_count": 31,
   "id": "90d56e2c",
   "metadata": {},
   "outputs": [
    {
     "data": {
      "text/plain": [
       "0         193.0\n",
       "1          28.0\n",
       "2         124.0\n",
       "3          74.0\n",
       "4          41.0\n",
       "          ...  \n",
       "102053     41.0\n",
       "102054     41.0\n",
       "102055     41.0\n",
       "102056     41.0\n",
       "102057     41.0\n",
       "Name: service_fee, Length: 99146, dtype: float64"
      ]
     },
     "execution_count": 31,
     "metadata": {},
     "output_type": "execute_result"
    }
   ],
   "source": [
    "# Aplicamos nuestra nueva funcion clean_dolcom a la columna: 'service_fee'\n",
    "\n",
    "df['service_fee'] = df['service_fee'].apply(lambda x: clean_dolcom(x))\n",
    "df['service_fee']"
   ]
  },
  {
   "cell_type": "markdown",
   "id": "DxyVsRzyK86C",
   "metadata": {
    "id": "DxyVsRzyK86C"
   },
   "source": [
    "### Tarea 4: Análisis exploratorio de datos (cualquier herramienta)\n",
    "\n",
    "\n",
    "\n",
    "- Enumera los tipos de habitaciones disponibles en el <i>dataset</i>.\n",
    "- ¿Qué tipo de habitación tiene la política de cancelación más estricta?\n",
    "- Enumera el precio medio por barrio y señala cuál es el conjunto de barrios más caro para alquilar.\n",
    "\n",
    "\n",
    "\n",
    "Si utilizas Python para este ejercicio, incluye el código que hayas utilizado en las celdas siguientes. Si utilizas cualquier otra herramienta, incluye capturas de pantalla de tu trabajo."
   ]
  },
  {
   "cell_type": "markdown",
   "id": "ebc7d20f",
   "metadata": {},
   "source": [
    "++++ Enumera los tipos de habitaciones disponibles en Airbnb."
   ]
  },
  {
   "cell_type": "code",
   "execution_count": 32,
   "id": "ylqpVpIaK86D",
   "metadata": {
    "id": "ylqpVpIaK86D"
   },
   "outputs": [
    {
     "data": {
      "text/plain": [
       "Index(['name', 'host_identity_verified', 'host_name', 'neighbourhood_group',\n",
       "       'neighbourhood', 'lat', 'long', 'instant_bookable',\n",
       "       'cancellation_policy', 'room_type', 'construction_year', 'price',\n",
       "       'service_fee', 'minimum_nights', 'number_of_reviews', 'last_review',\n",
       "       'reviews_per_month', 'review_rate_number',\n",
       "       'calculated_host_listings_count', 'days_booked', 'house_rules',\n",
       "       'license'],\n",
       "      dtype='object')"
      ]
     },
     "execution_count": 32,
     "metadata": {},
     "output_type": "execute_result"
    }
   ],
   "source": [
    "df.columns # Para buscar el nombre de la columna que nos interesa (y van a interesar)"
   ]
  },
  {
   "cell_type": "code",
   "execution_count": 33,
   "id": "35cefa98",
   "metadata": {},
   "outputs": [
    {
     "data": {
      "text/plain": [
       "room_type\n",
       "Entire home/apt    51995\n",
       "Private room       44887\n",
       "Shared room         2149\n",
       "Hotel room           115\n",
       "Name: count, dtype: int64"
      ]
     },
     "execution_count": 33,
     "metadata": {},
     "output_type": "execute_result"
    }
   ],
   "source": [
    "df['room_type'].value_counts() # Los tipos de habitaciones disponibles son:\n",
    "                               # Entire home/apt ,Private room, Shared room y Hotel room."
   ]
  },
  {
   "cell_type": "markdown",
   "id": "08d6a8b2",
   "metadata": {},
   "source": [
    "++++ ¿Qué tipo de habitación se adhiere a una política de cancelación más estricta?"
   ]
  },
  {
   "cell_type": "code",
   "execution_count": 34,
   "id": "EOF0g2geK86D",
   "metadata": {
    "id": "EOF0g2geK86D",
    "scrolled": false
   },
   "outputs": [
    {
     "data": {
      "text/plain": [
       "cancellation_policy\n",
       "moderate    33265\n",
       "flexible    32954\n",
       "strict      32927\n",
       "Name: count, dtype: int64"
      ]
     },
     "execution_count": 34,
     "metadata": {},
     "output_type": "execute_result"
    }
   ],
   "source": [
    "df['cancellation_policy'].value_counts() # Para localizar 'strict'"
   ]
  },
  {
   "cell_type": "code",
   "execution_count": 35,
   "id": "34898e9d",
   "metadata": {},
   "outputs": [
    {
     "data": {
      "text/html": [
       "<div>\n",
       "<style scoped>\n",
       "    .dataframe tbody tr th:only-of-type {\n",
       "        vertical-align: middle;\n",
       "    }\n",
       "\n",
       "    .dataframe tbody tr th {\n",
       "        vertical-align: top;\n",
       "    }\n",
       "\n",
       "    .dataframe thead th {\n",
       "        text-align: right;\n",
       "    }\n",
       "</style>\n",
       "<table border=\"1\" class=\"dataframe\">\n",
       "  <thead>\n",
       "    <tr style=\"text-align: right;\">\n",
       "      <th></th>\n",
       "      <th>name</th>\n",
       "      <th>host_identity_verified</th>\n",
       "      <th>host_name</th>\n",
       "      <th>neighbourhood_group</th>\n",
       "      <th>neighbourhood</th>\n",
       "      <th>lat</th>\n",
       "      <th>long</th>\n",
       "      <th>instant_bookable</th>\n",
       "      <th>cancellation_policy</th>\n",
       "      <th>room_type</th>\n",
       "      <th>...</th>\n",
       "      <th>service_fee</th>\n",
       "      <th>minimum_nights</th>\n",
       "      <th>number_of_reviews</th>\n",
       "      <th>last_review</th>\n",
       "      <th>reviews_per_month</th>\n",
       "      <th>review_rate_number</th>\n",
       "      <th>calculated_host_listings_count</th>\n",
       "      <th>days_booked</th>\n",
       "      <th>house_rules</th>\n",
       "      <th>license</th>\n",
       "    </tr>\n",
       "  </thead>\n",
       "  <tbody>\n",
       "    <tr>\n",
       "      <th>0</th>\n",
       "      <td>Clean &amp; quiet apt home by the park</td>\n",
       "      <td>unconfirmed</td>\n",
       "      <td>Madaline</td>\n",
       "      <td>Brooklyn</td>\n",
       "      <td>Kensington</td>\n",
       "      <td>40.64749</td>\n",
       "      <td>-73.97237</td>\n",
       "      <td>False</td>\n",
       "      <td>strict</td>\n",
       "      <td>Private room</td>\n",
       "      <td>...</td>\n",
       "      <td>193.0</td>\n",
       "      <td>10.0</td>\n",
       "      <td>9.0</td>\n",
       "      <td>10/19/2021</td>\n",
       "      <td>0.210000</td>\n",
       "      <td>4.0</td>\n",
       "      <td>6.0</td>\n",
       "      <td>286.0</td>\n",
       "      <td>Clean up and treat the home the way you'd like...</td>\n",
       "      <td>41662/AL</td>\n",
       "    </tr>\n",
       "    <tr>\n",
       "      <th>8</th>\n",
       "      <td>Large Furnished Room Near B'way</td>\n",
       "      <td>verified</td>\n",
       "      <td>Evelyn</td>\n",
       "      <td>Manhattan</td>\n",
       "      <td>Hell's Kitchen</td>\n",
       "      <td>40.76489</td>\n",
       "      <td>-73.98493</td>\n",
       "      <td>True</td>\n",
       "      <td>strict</td>\n",
       "      <td>Private room</td>\n",
       "      <td>...</td>\n",
       "      <td>204.0</td>\n",
       "      <td>2.0</td>\n",
       "      <td>430.0</td>\n",
       "      <td>6/24/2019</td>\n",
       "      <td>3.470000</td>\n",
       "      <td>3.0</td>\n",
       "      <td>1.0</td>\n",
       "      <td>180.0</td>\n",
       "      <td>- Please clean up after yourself when using th...</td>\n",
       "      <td>41662/AL</td>\n",
       "    </tr>\n",
       "    <tr>\n",
       "      <th>9</th>\n",
       "      <td>Cozy Clean Guest Room - Family Apt</td>\n",
       "      <td>unconfirmed</td>\n",
       "      <td>Carl</td>\n",
       "      <td>Manhattan</td>\n",
       "      <td>Upper West Side</td>\n",
       "      <td>40.80178</td>\n",
       "      <td>-73.96723</td>\n",
       "      <td>False</td>\n",
       "      <td>strict</td>\n",
       "      <td>Private room</td>\n",
       "      <td>...</td>\n",
       "      <td>58.0</td>\n",
       "      <td>2.0</td>\n",
       "      <td>118.0</td>\n",
       "      <td>7/21/2017</td>\n",
       "      <td>0.990000</td>\n",
       "      <td>5.0</td>\n",
       "      <td>1.0</td>\n",
       "      <td>375.0</td>\n",
       "      <td>NO SMOKING OR PETS ANYWHERE ON THE PROPERTY 1....</td>\n",
       "      <td>41662/AL</td>\n",
       "    </tr>\n",
       "    <tr>\n",
       "      <th>12</th>\n",
       "      <td>Central Manhattan/near Broadway</td>\n",
       "      <td>verified</td>\n",
       "      <td>Michael</td>\n",
       "      <td>Manhattan</td>\n",
       "      <td>Hell's Kitchen</td>\n",
       "      <td>40.76076</td>\n",
       "      <td>-73.98867</td>\n",
       "      <td>False</td>\n",
       "      <td>strict</td>\n",
       "      <td>Private room</td>\n",
       "      <td>...</td>\n",
       "      <td>143.0</td>\n",
       "      <td>2.0</td>\n",
       "      <td>188.0</td>\n",
       "      <td>6/23/2019</td>\n",
       "      <td>1.500000</td>\n",
       "      <td>4.0</td>\n",
       "      <td>1.0</td>\n",
       "      <td>258.0</td>\n",
       "      <td>- One of the bedroom closets is not accessible...</td>\n",
       "      <td>41662/AL</td>\n",
       "    </tr>\n",
       "    <tr>\n",
       "      <th>24</th>\n",
       "      <td>CBG Helps Haiti Rm #2</td>\n",
       "      <td>unconfirmed</td>\n",
       "      <td>Charlotte</td>\n",
       "      <td>Brooklyn</td>\n",
       "      <td>Park Slope</td>\n",
       "      <td>40.68001</td>\n",
       "      <td>-73.97865</td>\n",
       "      <td>False</td>\n",
       "      <td>strict</td>\n",
       "      <td>Private room</td>\n",
       "      <td>...</td>\n",
       "      <td>163.0</td>\n",
       "      <td>2.0</td>\n",
       "      <td>71.0</td>\n",
       "      <td>7/2/2019</td>\n",
       "      <td>0.610000</td>\n",
       "      <td>4.0</td>\n",
       "      <td>6.0</td>\n",
       "      <td>344.0</td>\n",
       "      <td>We take great care of our home and expect you ...</td>\n",
       "      <td>41662/AL</td>\n",
       "    </tr>\n",
       "    <tr>\n",
       "      <th>...</th>\n",
       "      <td>...</td>\n",
       "      <td>...</td>\n",
       "      <td>...</td>\n",
       "      <td>...</td>\n",
       "      <td>...</td>\n",
       "      <td>...</td>\n",
       "      <td>...</td>\n",
       "      <td>...</td>\n",
       "      <td>...</td>\n",
       "      <td>...</td>\n",
       "      <td>...</td>\n",
       "      <td>...</td>\n",
       "      <td>...</td>\n",
       "      <td>...</td>\n",
       "      <td>...</td>\n",
       "      <td>...</td>\n",
       "      <td>...</td>\n",
       "      <td>...</td>\n",
       "      <td>...</td>\n",
       "      <td>...</td>\n",
       "      <td>...</td>\n",
       "    </tr>\n",
       "    <tr>\n",
       "      <th>102037</th>\n",
       "      <td>Bx Apartment</td>\n",
       "      <td>unconfirmed</td>\n",
       "      <td>Vii</td>\n",
       "      <td>Bronx</td>\n",
       "      <td>Olinville</td>\n",
       "      <td>40.88438</td>\n",
       "      <td>-73.86397</td>\n",
       "      <td>True</td>\n",
       "      <td>strict</td>\n",
       "      <td>Private room</td>\n",
       "      <td>...</td>\n",
       "      <td>41.0</td>\n",
       "      <td>1.0</td>\n",
       "      <td>0.0</td>\n",
       "      <td>6/23/2019</td>\n",
       "      <td>1.374022</td>\n",
       "      <td>3.0</td>\n",
       "      <td>1.0</td>\n",
       "      <td>0.0</td>\n",
       "      <td>#NAME?</td>\n",
       "      <td>41662/AL</td>\n",
       "    </tr>\n",
       "    <tr>\n",
       "      <th>102040</th>\n",
       "      <td>Room in Queens, NY, near LGA.</td>\n",
       "      <td>verified</td>\n",
       "      <td>Sonia</td>\n",
       "      <td>Queens</td>\n",
       "      <td>East Elmhurst</td>\n",
       "      <td>40.76245</td>\n",
       "      <td>-73.87938</td>\n",
       "      <td>True</td>\n",
       "      <td>strict</td>\n",
       "      <td>Private room</td>\n",
       "      <td>...</td>\n",
       "      <td>196.0</td>\n",
       "      <td>1.0</td>\n",
       "      <td>239.0</td>\n",
       "      <td>6/29/2019</td>\n",
       "      <td>8.580000</td>\n",
       "      <td>2.0</td>\n",
       "      <td>2.0</td>\n",
       "      <td>361.0</td>\n",
       "      <td>1. Please clean-up after yourself in the kitch...</td>\n",
       "      <td>41662/AL</td>\n",
       "    </tr>\n",
       "    <tr>\n",
       "      <th>102042</th>\n",
       "      <td>Central Park Views - Private Room &amp; Bathroom</td>\n",
       "      <td>verified</td>\n",
       "      <td>Michael</td>\n",
       "      <td>Manhattan</td>\n",
       "      <td>Upper West Side</td>\n",
       "      <td>40.79712</td>\n",
       "      <td>-73.96117</td>\n",
       "      <td>False</td>\n",
       "      <td>strict</td>\n",
       "      <td>Private room</td>\n",
       "      <td>...</td>\n",
       "      <td>141.0</td>\n",
       "      <td>1.0</td>\n",
       "      <td>4.0</td>\n",
       "      <td>8/15/2017</td>\n",
       "      <td>0.140000</td>\n",
       "      <td>4.0</td>\n",
       "      <td>1.0</td>\n",
       "      <td>0.0</td>\n",
       "      <td>My roommates and I take a lot of pride in keep...</td>\n",
       "      <td>41662/AL</td>\n",
       "    </tr>\n",
       "    <tr>\n",
       "      <th>102049</th>\n",
       "      <td>MASTER Cozy Bedroom Queen size 2 blocks Timesq...</td>\n",
       "      <td>verified</td>\n",
       "      <td>Michael</td>\n",
       "      <td>Manhattan</td>\n",
       "      <td>Hell's Kitchen</td>\n",
       "      <td>40.76125</td>\n",
       "      <td>-73.98945</td>\n",
       "      <td>True</td>\n",
       "      <td>strict</td>\n",
       "      <td>Entire home/apt</td>\n",
       "      <td>...</td>\n",
       "      <td>41.0</td>\n",
       "      <td>1.0</td>\n",
       "      <td>81.0</td>\n",
       "      <td>3/5/2019</td>\n",
       "      <td>2.960000</td>\n",
       "      <td>2.0</td>\n",
       "      <td>2.0</td>\n",
       "      <td>0.0</td>\n",
       "      <td>- I work at home and prefer to rent to folks w...</td>\n",
       "      <td>41662/AL</td>\n",
       "    </tr>\n",
       "    <tr>\n",
       "      <th>102056</th>\n",
       "      <td>Room &amp; private bathroom in historic Harlem</td>\n",
       "      <td>unconfirmed</td>\n",
       "      <td>Shireen</td>\n",
       "      <td>Manhattan</td>\n",
       "      <td>Harlem</td>\n",
       "      <td>40.81248</td>\n",
       "      <td>-73.94317</td>\n",
       "      <td>True</td>\n",
       "      <td>strict</td>\n",
       "      <td>Private room</td>\n",
       "      <td>...</td>\n",
       "      <td>41.0</td>\n",
       "      <td>2.0</td>\n",
       "      <td>0.0</td>\n",
       "      <td>6/23/2019</td>\n",
       "      <td>1.374022</td>\n",
       "      <td>1.0</td>\n",
       "      <td>1.0</td>\n",
       "      <td>0.0</td>\n",
       "      <td>Each of us is working and/or going to school a...</td>\n",
       "      <td>41662/AL</td>\n",
       "    </tr>\n",
       "  </tbody>\n",
       "</table>\n",
       "<p>32927 rows × 22 columns</p>\n",
       "</div>"
      ],
      "text/plain": [
       "                                                     name  \\\n",
       "0                      Clean & quiet apt home by the park   \n",
       "8                         Large Furnished Room Near B'way   \n",
       "9                      Cozy Clean Guest Room - Family Apt   \n",
       "12                        Central Manhattan/near Broadway   \n",
       "24                                  CBG Helps Haiti Rm #2   \n",
       "...                                                   ...   \n",
       "102037                                       Bx Apartment   \n",
       "102040                      Room in Queens, NY, near LGA.   \n",
       "102042       Central Park Views - Private Room & Bathroom   \n",
       "102049  MASTER Cozy Bedroom Queen size 2 blocks Timesq...   \n",
       "102056         Room & private bathroom in historic Harlem   \n",
       "\n",
       "       host_identity_verified  host_name neighbourhood_group    neighbourhood  \\\n",
       "0                 unconfirmed   Madaline            Brooklyn       Kensington   \n",
       "8                    verified     Evelyn           Manhattan   Hell's Kitchen   \n",
       "9                 unconfirmed       Carl           Manhattan  Upper West Side   \n",
       "12                   verified    Michael           Manhattan   Hell's Kitchen   \n",
       "24                unconfirmed  Charlotte            Brooklyn       Park Slope   \n",
       "...                       ...        ...                 ...              ...   \n",
       "102037            unconfirmed        Vii               Bronx        Olinville   \n",
       "102040               verified      Sonia              Queens    East Elmhurst   \n",
       "102042               verified    Michael           Manhattan  Upper West Side   \n",
       "102049               verified    Michael           Manhattan   Hell's Kitchen   \n",
       "102056            unconfirmed    Shireen           Manhattan           Harlem   \n",
       "\n",
       "             lat      long  instant_bookable cancellation_policy  \\\n",
       "0       40.64749 -73.97237             False              strict   \n",
       "8       40.76489 -73.98493              True              strict   \n",
       "9       40.80178 -73.96723             False              strict   \n",
       "12      40.76076 -73.98867             False              strict   \n",
       "24      40.68001 -73.97865             False              strict   \n",
       "...          ...       ...               ...                 ...   \n",
       "102037  40.88438 -73.86397              True              strict   \n",
       "102040  40.76245 -73.87938              True              strict   \n",
       "102042  40.79712 -73.96117             False              strict   \n",
       "102049  40.76125 -73.98945              True              strict   \n",
       "102056  40.81248 -73.94317              True              strict   \n",
       "\n",
       "              room_type  ...  service_fee  minimum_nights  number_of_reviews  \\\n",
       "0          Private room  ...        193.0            10.0                9.0   \n",
       "8          Private room  ...        204.0             2.0              430.0   \n",
       "9          Private room  ...         58.0             2.0              118.0   \n",
       "12         Private room  ...        143.0             2.0              188.0   \n",
       "24         Private room  ...        163.0             2.0               71.0   \n",
       "...                 ...  ...          ...             ...                ...   \n",
       "102037     Private room  ...         41.0             1.0                0.0   \n",
       "102040     Private room  ...        196.0             1.0              239.0   \n",
       "102042     Private room  ...        141.0             1.0                4.0   \n",
       "102049  Entire home/apt  ...         41.0             1.0               81.0   \n",
       "102056     Private room  ...         41.0             2.0                0.0   \n",
       "\n",
       "        last_review  reviews_per_month review_rate_number  \\\n",
       "0        10/19/2021           0.210000                4.0   \n",
       "8         6/24/2019           3.470000                3.0   \n",
       "9         7/21/2017           0.990000                5.0   \n",
       "12        6/23/2019           1.500000                4.0   \n",
       "24         7/2/2019           0.610000                4.0   \n",
       "...             ...                ...                ...   \n",
       "102037    6/23/2019           1.374022                3.0   \n",
       "102040    6/29/2019           8.580000                2.0   \n",
       "102042    8/15/2017           0.140000                4.0   \n",
       "102049     3/5/2019           2.960000                2.0   \n",
       "102056    6/23/2019           1.374022                1.0   \n",
       "\n",
       "        calculated_host_listings_count  days_booked  \\\n",
       "0                                  6.0        286.0   \n",
       "8                                  1.0        180.0   \n",
       "9                                  1.0        375.0   \n",
       "12                                 1.0        258.0   \n",
       "24                                 6.0        344.0   \n",
       "...                                ...          ...   \n",
       "102037                             1.0          0.0   \n",
       "102040                             2.0        361.0   \n",
       "102042                             1.0          0.0   \n",
       "102049                             2.0          0.0   \n",
       "102056                             1.0          0.0   \n",
       "\n",
       "                                              house_rules   license  \n",
       "0       Clean up and treat the home the way you'd like...  41662/AL  \n",
       "8       - Please clean up after yourself when using th...  41662/AL  \n",
       "9       NO SMOKING OR PETS ANYWHERE ON THE PROPERTY 1....  41662/AL  \n",
       "12      - One of the bedroom closets is not accessible...  41662/AL  \n",
       "24      We take great care of our home and expect you ...  41662/AL  \n",
       "...                                                   ...       ...  \n",
       "102037                                             #NAME?  41662/AL  \n",
       "102040  1. Please clean-up after yourself in the kitch...  41662/AL  \n",
       "102042  My roommates and I take a lot of pride in keep...  41662/AL  \n",
       "102049  - I work at home and prefer to rent to folks w...  41662/AL  \n",
       "102056  Each of us is working and/or going to school a...  41662/AL  \n",
       "\n",
       "[32927 rows x 22 columns]"
      ]
     },
     "execution_count": 35,
     "metadata": {},
     "output_type": "execute_result"
    }
   ],
   "source": [
    "df[df['cancellation_policy']=='strict'] # Buscamos en cancellation_policy las que son iguales a 'strict'."
   ]
  },
  {
   "cell_type": "markdown",
   "id": "9d1e0294",
   "metadata": {},
   "source": [
    "++++ Enumera el precio medio por barrio y menciona también cuál es el grupo de barrios con alquileres más caros."
   ]
  },
  {
   "cell_type": "code",
   "execution_count": 36,
   "id": "7fIwo9SrK86E",
   "metadata": {
    "id": "7fIwo9SrK86E",
    "scrolled": true
   },
   "outputs": [
    {
     "data": {
      "text/plain": [
       "neighbourhood_group\n",
       "Bronx            625.271511\n",
       "Brooklyn         625.451927\n",
       "Manhattan        621.641437\n",
       "Queens           628.668822\n",
       "Staten Island    625.060870\n",
       "brookln          580.000000\n",
       "manhatan         460.000000\n",
       "Name: price, dtype: float64"
      ]
     },
     "execution_count": 36,
     "metadata": {},
     "output_type": "execute_result"
    }
   ],
   "source": [
    "df['price'].groupby(df['neighbourhood_group']).mean() # Vamos a cruzar dos variables agrupandolas con .groupby y queremos ver\n",
    "                                                      # la Media de Precios por Barrio para poder compararlas, usando .mean()"
   ]
  },
  {
   "cell_type": "markdown",
   "id": "3f0fddb5",
   "metadata": {},
   "source": [
    "**!!!! Algo importante que vemos** es que hay **2 columnas para Manhattan (Manhattan y manhatan) y 2 columnas para Brooklyn \n",
    "(Brooklyn y brookln)**. Puede deberse a que el Barrio este dividido en 2 regiones separadas, como Norte y Sur, o Anillo Central y Anillo Exterior, y por eso estén separadas. \n",
    "\n",
    "Lo que yo haría sería **contactar con el Jefe** para preguntarle acerca de este suceso y saber si tengo que investigar mas y unirlas en una sola región por cada pareja de nombre similar, o qué. \n",
    "\n",
    "---> Para este Proyecto **asumo que** y las voy a tratar como **Regiones Diferentes** "
   ]
  },
  {
   "cell_type": "code",
   "execution_count": 37,
   "id": "7e08ee6f",
   "metadata": {},
   "outputs": [
    {
     "data": {
      "text/plain": [
       "neighbourhood_group\n",
       "Queens           628.668822\n",
       "Brooklyn         625.451927\n",
       "Bronx            625.271511\n",
       "Staten Island    625.060870\n",
       "Manhattan        621.641437\n",
       "brookln          580.000000\n",
       "manhatan         460.000000\n",
       "Name: price, dtype: float64"
      ]
     },
     "execution_count": 37,
     "metadata": {},
     "output_type": "execute_result"
    }
   ],
   "source": [
    "df['price'].groupby(df['neighbourhood_group']).mean().sort_values(ascending=False) \n",
    "\n",
    "# Los ordenamos con sort_values Asc=False\n",
    "# para verlos de mayor a menos y saber que el grupo de barrios cuyo precio medio (por eso usamos .mean()) es el más caro es:\n",
    "#'Queens'."
   ]
  },
  {
   "cell_type": "markdown",
   "id": "MqAfrs2_K86E",
   "metadata": {
    "id": "MqAfrs2_K86E"
   },
   "source": [
    "## Tarea 5a: Visualización de datos (Cualquier herramienta)\n",
    "\n",
    "* Enumerar los distintos tipos de habitaciones disponibles en Airnb\n",
    "* Qué tipo de habitación se adhiere a una política de cancelación más estricta.\n",
    "* Enumere los precios por grupo de barrios y mencione también cuál es el grupo de barrios más caro para los alquileres.\n",
    "* Enumere los 10 barrios más caros por orden creciente de precio con la ayuda de un gráfico de barras horizontales. ¿Cuál es el barrio más barato?\n",
    "* Enumere los barrios que ofrecen alquileres a corto plazo de menos de 10 días. Ilustrar con un gráfico de barras\n",
    "* Enumere los precios con respecto al tipo de habitación utilizando un gráfico de barras y exponga también sus inferencias.\n",
    "* Cree un gráfico circular que muestre la distribución de los días reservados para cada grupo de barrios.\n",
    "\n",
    "Si utiliza Python para este ejercicio, por favor incluya el código en las celdas de abajo. Si utiliza cualquier otra herramienta, por favor incluya pantallazos de su trabajo."
   ]
  },
  {
   "cell_type": "markdown",
   "id": "ffc82d6a",
   "metadata": {},
   "source": [
    "++++ Enumerar los distintos tipos de habitaciones disponibles en Airnb"
   ]
  },
  {
   "cell_type": "code",
   "execution_count": 38,
   "id": "WcAcrUvTK86F",
   "metadata": {
    "id": "WcAcrUvTK86F"
   },
   "outputs": [
    {
     "data": {
      "text/plain": [
       "room_type\n",
       "Entire home/apt    51995\n",
       "Private room       44887\n",
       "Shared room         2149\n",
       "Hotel room           115\n",
       "Name: count, dtype: int64"
      ]
     },
     "execution_count": 38,
     "metadata": {},
     "output_type": "execute_result"
    }
   ],
   "source": [
    "df_rt = df['room_type'].value_counts() # Lo guardo en una Variable por si me lo piden de nuevo.\n",
    "df_rt"
   ]
  },
  {
   "cell_type": "markdown",
   "id": "62e40108",
   "metadata": {},
   "source": [
    "++++ Qué tipo de habitación se adhiere a una política de cancelación más estricta."
   ]
  },
  {
   "cell_type": "code",
   "execution_count": 39,
   "id": "tdx97C6rK86F",
   "metadata": {
    "id": "tdx97C6rK86F"
   },
   "outputs": [
    {
     "data": {
      "text/html": [
       "<div>\n",
       "<style scoped>\n",
       "    .dataframe tbody tr th:only-of-type {\n",
       "        vertical-align: middle;\n",
       "    }\n",
       "\n",
       "    .dataframe tbody tr th {\n",
       "        vertical-align: top;\n",
       "    }\n",
       "\n",
       "    .dataframe thead th {\n",
       "        text-align: right;\n",
       "    }\n",
       "</style>\n",
       "<table border=\"1\" class=\"dataframe\">\n",
       "  <thead>\n",
       "    <tr style=\"text-align: right;\">\n",
       "      <th></th>\n",
       "      <th>name</th>\n",
       "      <th>host_identity_verified</th>\n",
       "      <th>host_name</th>\n",
       "      <th>neighbourhood_group</th>\n",
       "      <th>neighbourhood</th>\n",
       "      <th>lat</th>\n",
       "      <th>long</th>\n",
       "      <th>instant_bookable</th>\n",
       "      <th>cancellation_policy</th>\n",
       "      <th>room_type</th>\n",
       "      <th>...</th>\n",
       "      <th>service_fee</th>\n",
       "      <th>minimum_nights</th>\n",
       "      <th>number_of_reviews</th>\n",
       "      <th>last_review</th>\n",
       "      <th>reviews_per_month</th>\n",
       "      <th>review_rate_number</th>\n",
       "      <th>calculated_host_listings_count</th>\n",
       "      <th>days_booked</th>\n",
       "      <th>house_rules</th>\n",
       "      <th>license</th>\n",
       "    </tr>\n",
       "  </thead>\n",
       "  <tbody>\n",
       "    <tr>\n",
       "      <th>0</th>\n",
       "      <td>Clean &amp; quiet apt home by the park</td>\n",
       "      <td>unconfirmed</td>\n",
       "      <td>Madaline</td>\n",
       "      <td>Brooklyn</td>\n",
       "      <td>Kensington</td>\n",
       "      <td>40.64749</td>\n",
       "      <td>-73.97237</td>\n",
       "      <td>False</td>\n",
       "      <td>strict</td>\n",
       "      <td>Private room</td>\n",
       "      <td>...</td>\n",
       "      <td>193.0</td>\n",
       "      <td>10.0</td>\n",
       "      <td>9.0</td>\n",
       "      <td>10/19/2021</td>\n",
       "      <td>0.210000</td>\n",
       "      <td>4.0</td>\n",
       "      <td>6.0</td>\n",
       "      <td>286.0</td>\n",
       "      <td>Clean up and treat the home the way you'd like...</td>\n",
       "      <td>41662/AL</td>\n",
       "    </tr>\n",
       "    <tr>\n",
       "      <th>8</th>\n",
       "      <td>Large Furnished Room Near B'way</td>\n",
       "      <td>verified</td>\n",
       "      <td>Evelyn</td>\n",
       "      <td>Manhattan</td>\n",
       "      <td>Hell's Kitchen</td>\n",
       "      <td>40.76489</td>\n",
       "      <td>-73.98493</td>\n",
       "      <td>True</td>\n",
       "      <td>strict</td>\n",
       "      <td>Private room</td>\n",
       "      <td>...</td>\n",
       "      <td>204.0</td>\n",
       "      <td>2.0</td>\n",
       "      <td>430.0</td>\n",
       "      <td>6/24/2019</td>\n",
       "      <td>3.470000</td>\n",
       "      <td>3.0</td>\n",
       "      <td>1.0</td>\n",
       "      <td>180.0</td>\n",
       "      <td>- Please clean up after yourself when using th...</td>\n",
       "      <td>41662/AL</td>\n",
       "    </tr>\n",
       "    <tr>\n",
       "      <th>9</th>\n",
       "      <td>Cozy Clean Guest Room - Family Apt</td>\n",
       "      <td>unconfirmed</td>\n",
       "      <td>Carl</td>\n",
       "      <td>Manhattan</td>\n",
       "      <td>Upper West Side</td>\n",
       "      <td>40.80178</td>\n",
       "      <td>-73.96723</td>\n",
       "      <td>False</td>\n",
       "      <td>strict</td>\n",
       "      <td>Private room</td>\n",
       "      <td>...</td>\n",
       "      <td>58.0</td>\n",
       "      <td>2.0</td>\n",
       "      <td>118.0</td>\n",
       "      <td>7/21/2017</td>\n",
       "      <td>0.990000</td>\n",
       "      <td>5.0</td>\n",
       "      <td>1.0</td>\n",
       "      <td>375.0</td>\n",
       "      <td>NO SMOKING OR PETS ANYWHERE ON THE PROPERTY 1....</td>\n",
       "      <td>41662/AL</td>\n",
       "    </tr>\n",
       "    <tr>\n",
       "      <th>12</th>\n",
       "      <td>Central Manhattan/near Broadway</td>\n",
       "      <td>verified</td>\n",
       "      <td>Michael</td>\n",
       "      <td>Manhattan</td>\n",
       "      <td>Hell's Kitchen</td>\n",
       "      <td>40.76076</td>\n",
       "      <td>-73.98867</td>\n",
       "      <td>False</td>\n",
       "      <td>strict</td>\n",
       "      <td>Private room</td>\n",
       "      <td>...</td>\n",
       "      <td>143.0</td>\n",
       "      <td>2.0</td>\n",
       "      <td>188.0</td>\n",
       "      <td>6/23/2019</td>\n",
       "      <td>1.500000</td>\n",
       "      <td>4.0</td>\n",
       "      <td>1.0</td>\n",
       "      <td>258.0</td>\n",
       "      <td>- One of the bedroom closets is not accessible...</td>\n",
       "      <td>41662/AL</td>\n",
       "    </tr>\n",
       "    <tr>\n",
       "      <th>24</th>\n",
       "      <td>CBG Helps Haiti Rm #2</td>\n",
       "      <td>unconfirmed</td>\n",
       "      <td>Charlotte</td>\n",
       "      <td>Brooklyn</td>\n",
       "      <td>Park Slope</td>\n",
       "      <td>40.68001</td>\n",
       "      <td>-73.97865</td>\n",
       "      <td>False</td>\n",
       "      <td>strict</td>\n",
       "      <td>Private room</td>\n",
       "      <td>...</td>\n",
       "      <td>163.0</td>\n",
       "      <td>2.0</td>\n",
       "      <td>71.0</td>\n",
       "      <td>7/2/2019</td>\n",
       "      <td>0.610000</td>\n",
       "      <td>4.0</td>\n",
       "      <td>6.0</td>\n",
       "      <td>344.0</td>\n",
       "      <td>We take great care of our home and expect you ...</td>\n",
       "      <td>41662/AL</td>\n",
       "    </tr>\n",
       "    <tr>\n",
       "      <th>...</th>\n",
       "      <td>...</td>\n",
       "      <td>...</td>\n",
       "      <td>...</td>\n",
       "      <td>...</td>\n",
       "      <td>...</td>\n",
       "      <td>...</td>\n",
       "      <td>...</td>\n",
       "      <td>...</td>\n",
       "      <td>...</td>\n",
       "      <td>...</td>\n",
       "      <td>...</td>\n",
       "      <td>...</td>\n",
       "      <td>...</td>\n",
       "      <td>...</td>\n",
       "      <td>...</td>\n",
       "      <td>...</td>\n",
       "      <td>...</td>\n",
       "      <td>...</td>\n",
       "      <td>...</td>\n",
       "      <td>...</td>\n",
       "      <td>...</td>\n",
       "    </tr>\n",
       "    <tr>\n",
       "      <th>102037</th>\n",
       "      <td>Bx Apartment</td>\n",
       "      <td>unconfirmed</td>\n",
       "      <td>Vii</td>\n",
       "      <td>Bronx</td>\n",
       "      <td>Olinville</td>\n",
       "      <td>40.88438</td>\n",
       "      <td>-73.86397</td>\n",
       "      <td>True</td>\n",
       "      <td>strict</td>\n",
       "      <td>Private room</td>\n",
       "      <td>...</td>\n",
       "      <td>41.0</td>\n",
       "      <td>1.0</td>\n",
       "      <td>0.0</td>\n",
       "      <td>6/23/2019</td>\n",
       "      <td>1.374022</td>\n",
       "      <td>3.0</td>\n",
       "      <td>1.0</td>\n",
       "      <td>0.0</td>\n",
       "      <td>#NAME?</td>\n",
       "      <td>41662/AL</td>\n",
       "    </tr>\n",
       "    <tr>\n",
       "      <th>102040</th>\n",
       "      <td>Room in Queens, NY, near LGA.</td>\n",
       "      <td>verified</td>\n",
       "      <td>Sonia</td>\n",
       "      <td>Queens</td>\n",
       "      <td>East Elmhurst</td>\n",
       "      <td>40.76245</td>\n",
       "      <td>-73.87938</td>\n",
       "      <td>True</td>\n",
       "      <td>strict</td>\n",
       "      <td>Private room</td>\n",
       "      <td>...</td>\n",
       "      <td>196.0</td>\n",
       "      <td>1.0</td>\n",
       "      <td>239.0</td>\n",
       "      <td>6/29/2019</td>\n",
       "      <td>8.580000</td>\n",
       "      <td>2.0</td>\n",
       "      <td>2.0</td>\n",
       "      <td>361.0</td>\n",
       "      <td>1. Please clean-up after yourself in the kitch...</td>\n",
       "      <td>41662/AL</td>\n",
       "    </tr>\n",
       "    <tr>\n",
       "      <th>102042</th>\n",
       "      <td>Central Park Views - Private Room &amp; Bathroom</td>\n",
       "      <td>verified</td>\n",
       "      <td>Michael</td>\n",
       "      <td>Manhattan</td>\n",
       "      <td>Upper West Side</td>\n",
       "      <td>40.79712</td>\n",
       "      <td>-73.96117</td>\n",
       "      <td>False</td>\n",
       "      <td>strict</td>\n",
       "      <td>Private room</td>\n",
       "      <td>...</td>\n",
       "      <td>141.0</td>\n",
       "      <td>1.0</td>\n",
       "      <td>4.0</td>\n",
       "      <td>8/15/2017</td>\n",
       "      <td>0.140000</td>\n",
       "      <td>4.0</td>\n",
       "      <td>1.0</td>\n",
       "      <td>0.0</td>\n",
       "      <td>My roommates and I take a lot of pride in keep...</td>\n",
       "      <td>41662/AL</td>\n",
       "    </tr>\n",
       "    <tr>\n",
       "      <th>102049</th>\n",
       "      <td>MASTER Cozy Bedroom Queen size 2 blocks Timesq...</td>\n",
       "      <td>verified</td>\n",
       "      <td>Michael</td>\n",
       "      <td>Manhattan</td>\n",
       "      <td>Hell's Kitchen</td>\n",
       "      <td>40.76125</td>\n",
       "      <td>-73.98945</td>\n",
       "      <td>True</td>\n",
       "      <td>strict</td>\n",
       "      <td>Entire home/apt</td>\n",
       "      <td>...</td>\n",
       "      <td>41.0</td>\n",
       "      <td>1.0</td>\n",
       "      <td>81.0</td>\n",
       "      <td>3/5/2019</td>\n",
       "      <td>2.960000</td>\n",
       "      <td>2.0</td>\n",
       "      <td>2.0</td>\n",
       "      <td>0.0</td>\n",
       "      <td>- I work at home and prefer to rent to folks w...</td>\n",
       "      <td>41662/AL</td>\n",
       "    </tr>\n",
       "    <tr>\n",
       "      <th>102056</th>\n",
       "      <td>Room &amp; private bathroom in historic Harlem</td>\n",
       "      <td>unconfirmed</td>\n",
       "      <td>Shireen</td>\n",
       "      <td>Manhattan</td>\n",
       "      <td>Harlem</td>\n",
       "      <td>40.81248</td>\n",
       "      <td>-73.94317</td>\n",
       "      <td>True</td>\n",
       "      <td>strict</td>\n",
       "      <td>Private room</td>\n",
       "      <td>...</td>\n",
       "      <td>41.0</td>\n",
       "      <td>2.0</td>\n",
       "      <td>0.0</td>\n",
       "      <td>6/23/2019</td>\n",
       "      <td>1.374022</td>\n",
       "      <td>1.0</td>\n",
       "      <td>1.0</td>\n",
       "      <td>0.0</td>\n",
       "      <td>Each of us is working and/or going to school a...</td>\n",
       "      <td>41662/AL</td>\n",
       "    </tr>\n",
       "  </tbody>\n",
       "</table>\n",
       "<p>32927 rows × 22 columns</p>\n",
       "</div>"
      ],
      "text/plain": [
       "                                                     name  \\\n",
       "0                      Clean & quiet apt home by the park   \n",
       "8                         Large Furnished Room Near B'way   \n",
       "9                      Cozy Clean Guest Room - Family Apt   \n",
       "12                        Central Manhattan/near Broadway   \n",
       "24                                  CBG Helps Haiti Rm #2   \n",
       "...                                                   ...   \n",
       "102037                                       Bx Apartment   \n",
       "102040                      Room in Queens, NY, near LGA.   \n",
       "102042       Central Park Views - Private Room & Bathroom   \n",
       "102049  MASTER Cozy Bedroom Queen size 2 blocks Timesq...   \n",
       "102056         Room & private bathroom in historic Harlem   \n",
       "\n",
       "       host_identity_verified  host_name neighbourhood_group    neighbourhood  \\\n",
       "0                 unconfirmed   Madaline            Brooklyn       Kensington   \n",
       "8                    verified     Evelyn           Manhattan   Hell's Kitchen   \n",
       "9                 unconfirmed       Carl           Manhattan  Upper West Side   \n",
       "12                   verified    Michael           Manhattan   Hell's Kitchen   \n",
       "24                unconfirmed  Charlotte            Brooklyn       Park Slope   \n",
       "...                       ...        ...                 ...              ...   \n",
       "102037            unconfirmed        Vii               Bronx        Olinville   \n",
       "102040               verified      Sonia              Queens    East Elmhurst   \n",
       "102042               verified    Michael           Manhattan  Upper West Side   \n",
       "102049               verified    Michael           Manhattan   Hell's Kitchen   \n",
       "102056            unconfirmed    Shireen           Manhattan           Harlem   \n",
       "\n",
       "             lat      long  instant_bookable cancellation_policy  \\\n",
       "0       40.64749 -73.97237             False              strict   \n",
       "8       40.76489 -73.98493              True              strict   \n",
       "9       40.80178 -73.96723             False              strict   \n",
       "12      40.76076 -73.98867             False              strict   \n",
       "24      40.68001 -73.97865             False              strict   \n",
       "...          ...       ...               ...                 ...   \n",
       "102037  40.88438 -73.86397              True              strict   \n",
       "102040  40.76245 -73.87938              True              strict   \n",
       "102042  40.79712 -73.96117             False              strict   \n",
       "102049  40.76125 -73.98945              True              strict   \n",
       "102056  40.81248 -73.94317              True              strict   \n",
       "\n",
       "              room_type  ...  service_fee  minimum_nights  number_of_reviews  \\\n",
       "0          Private room  ...        193.0            10.0                9.0   \n",
       "8          Private room  ...        204.0             2.0              430.0   \n",
       "9          Private room  ...         58.0             2.0              118.0   \n",
       "12         Private room  ...        143.0             2.0              188.0   \n",
       "24         Private room  ...        163.0             2.0               71.0   \n",
       "...                 ...  ...          ...             ...                ...   \n",
       "102037     Private room  ...         41.0             1.0                0.0   \n",
       "102040     Private room  ...        196.0             1.0              239.0   \n",
       "102042     Private room  ...        141.0             1.0                4.0   \n",
       "102049  Entire home/apt  ...         41.0             1.0               81.0   \n",
       "102056     Private room  ...         41.0             2.0                0.0   \n",
       "\n",
       "        last_review  reviews_per_month review_rate_number  \\\n",
       "0        10/19/2021           0.210000                4.0   \n",
       "8         6/24/2019           3.470000                3.0   \n",
       "9         7/21/2017           0.990000                5.0   \n",
       "12        6/23/2019           1.500000                4.0   \n",
       "24         7/2/2019           0.610000                4.0   \n",
       "...             ...                ...                ...   \n",
       "102037    6/23/2019           1.374022                3.0   \n",
       "102040    6/29/2019           8.580000                2.0   \n",
       "102042    8/15/2017           0.140000                4.0   \n",
       "102049     3/5/2019           2.960000                2.0   \n",
       "102056    6/23/2019           1.374022                1.0   \n",
       "\n",
       "        calculated_host_listings_count  days_booked  \\\n",
       "0                                  6.0        286.0   \n",
       "8                                  1.0        180.0   \n",
       "9                                  1.0        375.0   \n",
       "12                                 1.0        258.0   \n",
       "24                                 6.0        344.0   \n",
       "...                                ...          ...   \n",
       "102037                             1.0          0.0   \n",
       "102040                             2.0        361.0   \n",
       "102042                             1.0          0.0   \n",
       "102049                             2.0          0.0   \n",
       "102056                             1.0          0.0   \n",
       "\n",
       "                                              house_rules   license  \n",
       "0       Clean up and treat the home the way you'd like...  41662/AL  \n",
       "8       - Please clean up after yourself when using th...  41662/AL  \n",
       "9       NO SMOKING OR PETS ANYWHERE ON THE PROPERTY 1....  41662/AL  \n",
       "12      - One of the bedroom closets is not accessible...  41662/AL  \n",
       "24      We take great care of our home and expect you ...  41662/AL  \n",
       "...                                                   ...       ...  \n",
       "102037                                             #NAME?  41662/AL  \n",
       "102040  1. Please clean-up after yourself in the kitch...  41662/AL  \n",
       "102042  My roommates and I take a lot of pride in keep...  41662/AL  \n",
       "102049  - I work at home and prefer to rent to folks w...  41662/AL  \n",
       "102056  Each of us is working and/or going to school a...  41662/AL  \n",
       "\n",
       "[32927 rows x 22 columns]"
      ]
     },
     "execution_count": 39,
     "metadata": {},
     "output_type": "execute_result"
    }
   ],
   "source": [
    "df_strict = df[df['cancellation_policy']=='strict'] # Lo guardo en una Variable por si me lo piden de nuevo.\n",
    "df_strict "
   ]
  },
  {
   "cell_type": "markdown",
   "id": "24c5543a",
   "metadata": {},
   "source": [
    "++++ Enumere los precios por grupo de barrios y mencione también cuál es el grupo de barrios más caro para los alquileres."
   ]
  },
  {
   "cell_type": "code",
   "execution_count": 40,
   "id": "JYOjAgTVK86F",
   "metadata": {
    "id": "JYOjAgTVK86F"
   },
   "outputs": [
    {
     "data": {
      "text/plain": [
       "neighbourhood_group\n",
       "Queens           628.668822\n",
       "Brooklyn         625.451927\n",
       "Bronx            625.271511\n",
       "Staten Island    625.060870\n",
       "Manhattan        621.641437\n",
       "brookln          580.000000\n",
       "manhatan         460.000000\n",
       "Name: price, dtype: float64"
      ]
     },
     "execution_count": 40,
     "metadata": {},
     "output_type": "execute_result"
    }
   ],
   "source": [
    "df_grp_prc_des = df['price'].groupby(df['neighbourhood_group']).mean().sort_values(ascending=False) \n",
    "\n",
    "# Los ordenamos con sort_values Asc=False para verlos de mayor a menos y saber que el grupo de barrios \n",
    "# cuyo Precio Medio (por eso usamos .mean()) es el más Caro es:'Queens'.\n",
    "# Lo guardo en una Variable por si me lo piden de nuevo.\n",
    "\n",
    "df_grp_prc_des"
   ]
  },
  {
   "cell_type": "markdown",
   "id": "806eea27",
   "metadata": {},
   "source": [
    "++++ Enumere los 10 barrios más caros por orden creciente de precio con la ayuda de un gráfico de barras horizontales."
   ]
  },
  {
   "cell_type": "code",
   "execution_count": 56,
   "id": "MLDWJj_jK86G",
   "metadata": {
    "id": "MLDWJj_jK86G",
    "scrolled": false
   },
   "outputs": [
    {
     "data": {
      "image/png": "[encoded data removed]",
      "text/plain": [
       "<Figure size 640x480 with 1 Axes>"
      ]
     },
     "metadata": {},
     "output_type": "display_data"
    }
   ],
   "source": [
    "import matplotlib.pyplot as plt # Cargamos matplotlib y le damos el alias plt\n",
    "\n",
    "df_grp_prc_asc = df['price'].groupby(df['neighbourhood_group']).mean().sort_values(ascending=True)\n",
    "\n",
    "df_grp_prc_asc.plot(kind='bar') # Usamos nuestra variable para que la plotee en un Grafico de Barras.\n",
    "\n",
    "plt.xlabel('Media de precios') # Formateo de Ejes y Titulo:\n",
    "plt.ylabel('Grupo de vecindario')\n",
    "plt.title('Media de precios por grupo de vecindario (ascendente)')\n",
    "\n",
    "plt.show() # Para plotear el grafico."
   ]
  },
  {
   "cell_type": "markdown",
   "id": "ea830000",
   "metadata": {},
   "source": [
    "++++ ¿Cuál es el barrio más barato?"
   ]
  },
  {
   "cell_type": "markdown",
   "id": "0a75ac99",
   "metadata": {},
   "source": [
    "---> Si nos centramos en el **Promedio de Precios Y asumiendo** que \"manhatan (minusculas)\" sea un tipo de barrio distinto a \n",
    "\"Manhattan\"(Por ejemplo si es Manhattan Norte y Manhattan Sur o agrupaciones similares)**[Como ya hemos definido anteriormente]** el mas **Barato** es: **'manhatan' (minusculas)**"
   ]
  },
  {
   "cell_type": "code",
   "execution_count": 43,
   "id": "11b6e224",
   "metadata": {},
   "outputs": [
    {
     "data": {
      "text/plain": [
       "Index(['name', 'host_identity_verified', 'host_name', 'neighbourhood_group',\n",
       "       'neighbourhood', 'lat', 'long', 'instant_bookable',\n",
       "       'cancellation_policy', 'room_type', 'construction_year', 'price',\n",
       "       'service_fee', 'minimum_nights', 'number_of_reviews', 'last_review',\n",
       "       'reviews_per_month', 'review_rate_number',\n",
       "       'calculated_host_listings_count', 'days_booked', 'house_rules',\n",
       "       'license'],\n",
       "      dtype='object')"
      ]
     },
     "execution_count": 43,
     "metadata": {},
     "output_type": "execute_result"
    }
   ],
   "source": [
    "df.columns"
   ]
  },
  {
   "cell_type": "markdown",
   "id": "4109d669",
   "metadata": {},
   "source": [
    "++++ Enumere los barrios que ofrecen alquileres a corto plazo de \"menos de 10 días\". Ilustrar con un gráfico de barras."
   ]
  },
  {
   "cell_type": "code",
   "execution_count": 44,
   "id": "9389c89f",
   "metadata": {},
   "outputs": [
    {
     "data": {
      "text/html": [
       "<div>\n",
       "<style scoped>\n",
       "    .dataframe tbody tr th:only-of-type {\n",
       "        vertical-align: middle;\n",
       "    }\n",
       "\n",
       "    .dataframe tbody tr th {\n",
       "        vertical-align: top;\n",
       "    }\n",
       "\n",
       "    .dataframe thead th {\n",
       "        text-align: right;\n",
       "    }\n",
       "</style>\n",
       "<table border=\"1\" class=\"dataframe\">\n",
       "  <thead>\n",
       "    <tr style=\"text-align: right;\">\n",
       "      <th></th>\n",
       "      <th>name</th>\n",
       "      <th>host_identity_verified</th>\n",
       "      <th>host_name</th>\n",
       "      <th>neighbourhood_group</th>\n",
       "      <th>neighbourhood</th>\n",
       "      <th>lat</th>\n",
       "      <th>long</th>\n",
       "      <th>instant_bookable</th>\n",
       "      <th>cancellation_policy</th>\n",
       "      <th>room_type</th>\n",
       "      <th>...</th>\n",
       "      <th>service_fee</th>\n",
       "      <th>minimum_nights</th>\n",
       "      <th>number_of_reviews</th>\n",
       "      <th>last_review</th>\n",
       "      <th>reviews_per_month</th>\n",
       "      <th>review_rate_number</th>\n",
       "      <th>calculated_host_listings_count</th>\n",
       "      <th>days_booked</th>\n",
       "      <th>house_rules</th>\n",
       "      <th>license</th>\n",
       "    </tr>\n",
       "  </thead>\n",
       "  <tbody>\n",
       "    <tr>\n",
       "      <th>2</th>\n",
       "      <td>THE VILLAGE OF HARLEM....NEW YORK !</td>\n",
       "      <td>unconfirmed</td>\n",
       "      <td>Elise</td>\n",
       "      <td>Manhattan</td>\n",
       "      <td>Harlem</td>\n",
       "      <td>40.80902</td>\n",
       "      <td>-73.94190</td>\n",
       "      <td>True</td>\n",
       "      <td>flexible</td>\n",
       "      <td>Private room</td>\n",
       "      <td>...</td>\n",
       "      <td>124.0</td>\n",
       "      <td>3.0</td>\n",
       "      <td>0.0</td>\n",
       "      <td>6/23/2019</td>\n",
       "      <td>1.374022</td>\n",
       "      <td>5.0</td>\n",
       "      <td>1.0</td>\n",
       "      <td>352.0</td>\n",
       "      <td>I encourage you to use my kitchen, cooking and...</td>\n",
       "      <td>41662/AL</td>\n",
       "    </tr>\n",
       "    <tr>\n",
       "      <th>5</th>\n",
       "      <td>Large Cozy 1 BR Apartment In Midtown East</td>\n",
       "      <td>verified</td>\n",
       "      <td>Michelle</td>\n",
       "      <td>Manhattan</td>\n",
       "      <td>Murray Hill</td>\n",
       "      <td>40.74767</td>\n",
       "      <td>-73.97500</td>\n",
       "      <td>True</td>\n",
       "      <td>flexible</td>\n",
       "      <td>Entire home/apt</td>\n",
       "      <td>...</td>\n",
       "      <td>115.0</td>\n",
       "      <td>3.0</td>\n",
       "      <td>74.0</td>\n",
       "      <td>6/22/2019</td>\n",
       "      <td>0.590000</td>\n",
       "      <td>3.0</td>\n",
       "      <td>1.0</td>\n",
       "      <td>374.0</td>\n",
       "      <td>No smoking, please, and no drugs.</td>\n",
       "      <td>41662/AL</td>\n",
       "    </tr>\n",
       "    <tr>\n",
       "      <th>8</th>\n",
       "      <td>Large Furnished Room Near B'way</td>\n",
       "      <td>verified</td>\n",
       "      <td>Evelyn</td>\n",
       "      <td>Manhattan</td>\n",
       "      <td>Hell's Kitchen</td>\n",
       "      <td>40.76489</td>\n",
       "      <td>-73.98493</td>\n",
       "      <td>True</td>\n",
       "      <td>strict</td>\n",
       "      <td>Private room</td>\n",
       "      <td>...</td>\n",
       "      <td>204.0</td>\n",
       "      <td>2.0</td>\n",
       "      <td>430.0</td>\n",
       "      <td>6/24/2019</td>\n",
       "      <td>3.470000</td>\n",
       "      <td>3.0</td>\n",
       "      <td>1.0</td>\n",
       "      <td>180.0</td>\n",
       "      <td>- Please clean up after yourself when using th...</td>\n",
       "      <td>41662/AL</td>\n",
       "    </tr>\n",
       "    <tr>\n",
       "      <th>9</th>\n",
       "      <td>Cozy Clean Guest Room - Family Apt</td>\n",
       "      <td>unconfirmed</td>\n",
       "      <td>Carl</td>\n",
       "      <td>Manhattan</td>\n",
       "      <td>Upper West Side</td>\n",
       "      <td>40.80178</td>\n",
       "      <td>-73.96723</td>\n",
       "      <td>False</td>\n",
       "      <td>strict</td>\n",
       "      <td>Private room</td>\n",
       "      <td>...</td>\n",
       "      <td>58.0</td>\n",
       "      <td>2.0</td>\n",
       "      <td>118.0</td>\n",
       "      <td>7/21/2017</td>\n",
       "      <td>0.990000</td>\n",
       "      <td>5.0</td>\n",
       "      <td>1.0</td>\n",
       "      <td>375.0</td>\n",
       "      <td>NO SMOKING OR PETS ANYWHERE ON THE PROPERTY 1....</td>\n",
       "      <td>41662/AL</td>\n",
       "    </tr>\n",
       "    <tr>\n",
       "      <th>10</th>\n",
       "      <td>Cute &amp; Cozy Lower East Side 1 bdrm</td>\n",
       "      <td>verified</td>\n",
       "      <td>Miranda</td>\n",
       "      <td>Manhattan</td>\n",
       "      <td>Chinatown</td>\n",
       "      <td>40.71344</td>\n",
       "      <td>-73.99037</td>\n",
       "      <td>False</td>\n",
       "      <td>flexible</td>\n",
       "      <td>Entire home/apt</td>\n",
       "      <td>...</td>\n",
       "      <td>64.0</td>\n",
       "      <td>1.0</td>\n",
       "      <td>160.0</td>\n",
       "      <td>6/9/2019</td>\n",
       "      <td>1.330000</td>\n",
       "      <td>3.0</td>\n",
       "      <td>4.0</td>\n",
       "      <td>1.0</td>\n",
       "      <td>#NAME?</td>\n",
       "      <td>41662/AL</td>\n",
       "    </tr>\n",
       "    <tr>\n",
       "      <th>...</th>\n",
       "      <td>...</td>\n",
       "      <td>...</td>\n",
       "      <td>...</td>\n",
       "      <td>...</td>\n",
       "      <td>...</td>\n",
       "      <td>...</td>\n",
       "      <td>...</td>\n",
       "      <td>...</td>\n",
       "      <td>...</td>\n",
       "      <td>...</td>\n",
       "      <td>...</td>\n",
       "      <td>...</td>\n",
       "      <td>...</td>\n",
       "      <td>...</td>\n",
       "      <td>...</td>\n",
       "      <td>...</td>\n",
       "      <td>...</td>\n",
       "      <td>...</td>\n",
       "      <td>...</td>\n",
       "      <td>...</td>\n",
       "      <td>...</td>\n",
       "    </tr>\n",
       "    <tr>\n",
       "      <th>102053</th>\n",
       "      <td>Cozy bright room near Prospect Park</td>\n",
       "      <td>unconfirmed</td>\n",
       "      <td>Mariam</td>\n",
       "      <td>Brooklyn</td>\n",
       "      <td>Flatbush</td>\n",
       "      <td>40.64945</td>\n",
       "      <td>-73.96108</td>\n",
       "      <td>True</td>\n",
       "      <td>moderate</td>\n",
       "      <td>Private room</td>\n",
       "      <td>...</td>\n",
       "      <td>41.0</td>\n",
       "      <td>7.0</td>\n",
       "      <td>12.0</td>\n",
       "      <td>3/27/2019</td>\n",
       "      <td>0.440000</td>\n",
       "      <td>5.0</td>\n",
       "      <td>1.0</td>\n",
       "      <td>0.0</td>\n",
       "      <td>Shoes off Clean After yourself Turn Lights and...</td>\n",
       "      <td>41662/AL</td>\n",
       "    </tr>\n",
       "    <tr>\n",
       "      <th>102054</th>\n",
       "      <td>Private Bedroom with Amazing Rooftop View</td>\n",
       "      <td>verified</td>\n",
       "      <td>Trey</td>\n",
       "      <td>Brooklyn</td>\n",
       "      <td>Bushwick</td>\n",
       "      <td>40.69872</td>\n",
       "      <td>-73.92718</td>\n",
       "      <td>False</td>\n",
       "      <td>flexible</td>\n",
       "      <td>Private room</td>\n",
       "      <td>...</td>\n",
       "      <td>41.0</td>\n",
       "      <td>1.0</td>\n",
       "      <td>19.0</td>\n",
       "      <td>8/31/2017</td>\n",
       "      <td>0.720000</td>\n",
       "      <td>3.0</td>\n",
       "      <td>2.0</td>\n",
       "      <td>0.0</td>\n",
       "      <td>#NAME?</td>\n",
       "      <td>41662/AL</td>\n",
       "    </tr>\n",
       "    <tr>\n",
       "      <th>102055</th>\n",
       "      <td>Pretty Brooklyn One-Bedroom for 2 to 4 people</td>\n",
       "      <td>verified</td>\n",
       "      <td>Michael</td>\n",
       "      <td>Brooklyn</td>\n",
       "      <td>Bedford-Stuyvesant</td>\n",
       "      <td>40.67810</td>\n",
       "      <td>-73.90822</td>\n",
       "      <td>True</td>\n",
       "      <td>moderate</td>\n",
       "      <td>Entire home/apt</td>\n",
       "      <td>...</td>\n",
       "      <td>41.0</td>\n",
       "      <td>2.0</td>\n",
       "      <td>50.0</td>\n",
       "      <td>6/26/2019</td>\n",
       "      <td>3.120000</td>\n",
       "      <td>4.0</td>\n",
       "      <td>2.0</td>\n",
       "      <td>235.0</td>\n",
       "      <td>* Check out: 10am * We made an effort to keep ...</td>\n",
       "      <td>41662/AL</td>\n",
       "    </tr>\n",
       "    <tr>\n",
       "      <th>102056</th>\n",
       "      <td>Room &amp; private bathroom in historic Harlem</td>\n",
       "      <td>unconfirmed</td>\n",
       "      <td>Shireen</td>\n",
       "      <td>Manhattan</td>\n",
       "      <td>Harlem</td>\n",
       "      <td>40.81248</td>\n",
       "      <td>-73.94317</td>\n",
       "      <td>True</td>\n",
       "      <td>strict</td>\n",
       "      <td>Private room</td>\n",
       "      <td>...</td>\n",
       "      <td>41.0</td>\n",
       "      <td>2.0</td>\n",
       "      <td>0.0</td>\n",
       "      <td>6/23/2019</td>\n",
       "      <td>1.374022</td>\n",
       "      <td>1.0</td>\n",
       "      <td>1.0</td>\n",
       "      <td>0.0</td>\n",
       "      <td>Each of us is working and/or going to school a...</td>\n",
       "      <td>41662/AL</td>\n",
       "    </tr>\n",
       "    <tr>\n",
       "      <th>102057</th>\n",
       "      <td>Rosalee Stewart</td>\n",
       "      <td>verified</td>\n",
       "      <td>Stanley</td>\n",
       "      <td>Manhattan</td>\n",
       "      <td>Harlem</td>\n",
       "      <td>40.81315</td>\n",
       "      <td>-73.94747</td>\n",
       "      <td>False</td>\n",
       "      <td>flexible</td>\n",
       "      <td>Entire home/apt</td>\n",
       "      <td>...</td>\n",
       "      <td>41.0</td>\n",
       "      <td>4.0</td>\n",
       "      <td>22.0</td>\n",
       "      <td>6/15/2019</td>\n",
       "      <td>0.850000</td>\n",
       "      <td>4.0</td>\n",
       "      <td>1.0</td>\n",
       "      <td>238.0</td>\n",
       "      <td>Please remember that this is a residential bui...</td>\n",
       "      <td>41662/AL</td>\n",
       "    </tr>\n",
       "  </tbody>\n",
       "</table>\n",
       "<p>81305 rows × 22 columns</p>\n",
       "</div>"
      ],
      "text/plain": [
       "                                                 name host_identity_verified  \\\n",
       "2                 THE VILLAGE OF HARLEM....NEW YORK !            unconfirmed   \n",
       "5           Large Cozy 1 BR Apartment In Midtown East               verified   \n",
       "8                     Large Furnished Room Near B'way               verified   \n",
       "9                  Cozy Clean Guest Room - Family Apt            unconfirmed   \n",
       "10                 Cute & Cozy Lower East Side 1 bdrm               verified   \n",
       "...                                               ...                    ...   \n",
       "102053            Cozy bright room near Prospect Park            unconfirmed   \n",
       "102054      Private Bedroom with Amazing Rooftop View               verified   \n",
       "102055  Pretty Brooklyn One-Bedroom for 2 to 4 people               verified   \n",
       "102056     Room & private bathroom in historic Harlem            unconfirmed   \n",
       "102057                                Rosalee Stewart               verified   \n",
       "\n",
       "       host_name neighbourhood_group       neighbourhood       lat      long  \\\n",
       "2          Elise           Manhattan              Harlem  40.80902 -73.94190   \n",
       "5       Michelle           Manhattan         Murray Hill  40.74767 -73.97500   \n",
       "8         Evelyn           Manhattan      Hell's Kitchen  40.76489 -73.98493   \n",
       "9           Carl           Manhattan     Upper West Side  40.80178 -73.96723   \n",
       "10       Miranda           Manhattan           Chinatown  40.71344 -73.99037   \n",
       "...          ...                 ...                 ...       ...       ...   \n",
       "102053    Mariam            Brooklyn            Flatbush  40.64945 -73.96108   \n",
       "102054      Trey            Brooklyn            Bushwick  40.69872 -73.92718   \n",
       "102055   Michael            Brooklyn  Bedford-Stuyvesant  40.67810 -73.90822   \n",
       "102056   Shireen           Manhattan              Harlem  40.81248 -73.94317   \n",
       "102057   Stanley           Manhattan              Harlem  40.81315 -73.94747   \n",
       "\n",
       "        instant_bookable cancellation_policy        room_type  ...  \\\n",
       "2                   True            flexible     Private room  ...   \n",
       "5                   True            flexible  Entire home/apt  ...   \n",
       "8                   True              strict     Private room  ...   \n",
       "9                  False              strict     Private room  ...   \n",
       "10                 False            flexible  Entire home/apt  ...   \n",
       "...                  ...                 ...              ...  ...   \n",
       "102053              True            moderate     Private room  ...   \n",
       "102054             False            flexible     Private room  ...   \n",
       "102055              True            moderate  Entire home/apt  ...   \n",
       "102056              True              strict     Private room  ...   \n",
       "102057             False            flexible  Entire home/apt  ...   \n",
       "\n",
       "        service_fee  minimum_nights  number_of_reviews  last_review  \\\n",
       "2             124.0             3.0                0.0    6/23/2019   \n",
       "5             115.0             3.0               74.0    6/22/2019   \n",
       "8             204.0             2.0              430.0    6/24/2019   \n",
       "9              58.0             2.0              118.0    7/21/2017   \n",
       "10             64.0             1.0              160.0     6/9/2019   \n",
       "...             ...             ...                ...          ...   \n",
       "102053         41.0             7.0               12.0    3/27/2019   \n",
       "102054         41.0             1.0               19.0    8/31/2017   \n",
       "102055         41.0             2.0               50.0    6/26/2019   \n",
       "102056         41.0             2.0                0.0    6/23/2019   \n",
       "102057         41.0             4.0               22.0    6/15/2019   \n",
       "\n",
       "        reviews_per_month review_rate_number  calculated_host_listings_count  \\\n",
       "2                1.374022                5.0                             1.0   \n",
       "5                0.590000                3.0                             1.0   \n",
       "8                3.470000                3.0                             1.0   \n",
       "9                0.990000                5.0                             1.0   \n",
       "10               1.330000                3.0                             4.0   \n",
       "...                   ...                ...                             ...   \n",
       "102053           0.440000                5.0                             1.0   \n",
       "102054           0.720000                3.0                             2.0   \n",
       "102055           3.120000                4.0                             2.0   \n",
       "102056           1.374022                1.0                             1.0   \n",
       "102057           0.850000                4.0                             1.0   \n",
       "\n",
       "        days_booked                                        house_rules  \\\n",
       "2             352.0  I encourage you to use my kitchen, cooking and...   \n",
       "5             374.0                  No smoking, please, and no drugs.   \n",
       "8             180.0  - Please clean up after yourself when using th...   \n",
       "9             375.0  NO SMOKING OR PETS ANYWHERE ON THE PROPERTY 1....   \n",
       "10              1.0                                             #NAME?   \n",
       "...             ...                                                ...   \n",
       "102053          0.0  Shoes off Clean After yourself Turn Lights and...   \n",
       "102054          0.0                                             #NAME?   \n",
       "102055        235.0  * Check out: 10am * We made an effort to keep ...   \n",
       "102056          0.0  Each of us is working and/or going to school a...   \n",
       "102057        238.0  Please remember that this is a residential bui...   \n",
       "\n",
       "         license  \n",
       "2       41662/AL  \n",
       "5       41662/AL  \n",
       "8       41662/AL  \n",
       "9       41662/AL  \n",
       "10      41662/AL  \n",
       "...          ...  \n",
       "102053  41662/AL  \n",
       "102054  41662/AL  \n",
       "102055  41662/AL  \n",
       "102056  41662/AL  \n",
       "102057  41662/AL  \n",
       "\n",
       "[81305 rows x 22 columns]"
      ]
     },
     "execution_count": 44,
     "metadata": {},
     "output_type": "execute_result"
    }
   ],
   "source": [
    "df_minus10_nght = df[df['minimum_nights']<=9] # Ya que \"Menos de 10 dias\" == \"9 o Menos dias\".\n",
    "df_minus10_nght"
   ]
  },
  {
   "cell_type": "code",
   "execution_count": 45,
   "id": "7eb825be",
   "metadata": {},
   "outputs": [],
   "source": [
    "                                                ##### TESTING BLOCK #####\n",
    "\n",
    "# df_neigh10 = df['neighbourhood'].groupby(df['minimum_nights'])<=9 \n",
    "# df_neigh10 = df['neighbourhood'].groupby(df_minus10_nght.astype(object)) \n",
    "## df_neigh10 = df['neighbourhood'].groupby(df['minimum_nights']<='9')==True \n",
    "## df_neight10 \n",
    "### df_neigh10 = df['neighbourhood'].groupby[(df['minimum_nights']<='9').astype(object)].sum()\n",
    "### df_neight10\n",
    "## dftest1 = (df['neighbourhood'])==(df['minimum_nights']<='9')\n",
    "# df[dftest1]\n",
    "# dftest1 = df.groupby('neighbourhood')['minimum_nights'] \n",
    "# df[dftest1] \n",
    "###### df_minus10_nght['neighbourhood_group'].value_counts().sort_values(ascending=True) # Siii!!!"
   ]
  },
  {
   "cell_type": "markdown",
   "id": "a7032ae7",
   "metadata": {},
   "source": [
    "++++ Enumere los barrios que ofrecen alquileres a corto plazo de \"menos de 10 días\".(Continuación)"
   ]
  },
  {
   "cell_type": "code",
   "execution_count": 46,
   "id": "b9b181ca",
   "metadata": {
    "scrolled": true
   },
   "outputs": [
    {
     "data": {
      "text/plain": [
       "neighbourhood_group\n",
       "Brooklyn         34345\n",
       "Manhattan        32792\n",
       "Queens           10970\n",
       "Bronx             2367\n",
       "Staten Island      829\n",
       "brookln              1\n",
       "manhatan             1\n",
       "Name: count, dtype: int64"
      ]
     },
     "execution_count": 46,
     "metadata": {},
     "output_type": "execute_result"
    }
   ],
   "source": [
    "df_minus10_nght = df[df['minimum_nights']<=9] # Ya que \"Menos de 10 dias\" == \"9 o Menos dias\".\n",
    "df_minus10_nght['neighbourhood_group'].value_counts()"
   ]
  },
  {
   "cell_type": "markdown",
   "id": "48ad87b0",
   "metadata": {},
   "source": [
    "++++ Ilustrar con un gráfico de barras:"
   ]
  },
  {
   "cell_type": "code",
   "execution_count": 57,
   "id": "3b48c46d",
   "metadata": {},
   "outputs": [
    {
     "data": {
      "image/png": "[encoded data removed]",
      "text/plain": [
       "<Figure size 640x480 with 1 Axes>"
      ]
     },
     "metadata": {},
     "output_type": "display_data"
    }
   ],
   "source": [
    "df_minus10_nght = df[df['minimum_nights']<=9] # Ya que \"Menos de 10 dias\" == \"9 o Menos dias\".\n",
    "\n",
    "df_n_m10grp = df_minus10_nght['neighbourhood_group'].value_counts().sort_values(ascending=True) # Lo introduzco en una Variable\n",
    "\n",
    "import matplotlib.pyplot as plt # Cargamos matplotlib y le damos el alias plt\n",
    "\n",
    "df_n_m10grp.plot(kind='bar') # Usamos nuestra variable para que la plotee en un Grafico de Barras.\n",
    "\n",
    "plt.xlabel('Grupo de vecindario') # Formateo de Ejes y Titulo.\n",
    "plt.ylabel('Numero de Alquileres')\n",
    "plt.title('Cantidad de alquileres \"Menores a 10 Dias\" por Barrio (ascendente)')\n",
    "\n",
    "plt.show() # Para plotear el grafico."
   ]
  },
  {
   "cell_type": "markdown",
   "id": "3a650e15",
   "metadata": {},
   "source": [
    "++++ Enumere los precios con respecto al tipo de habitación utilizando un gráfico de barras y exponga también sus inferencias."
   ]
  },
  {
   "cell_type": "code",
   "execution_count": 61,
   "id": "242a1056",
   "metadata": {},
   "outputs": [
    {
     "data": {
      "text/plain": [
       "room_type\n",
       "Private room       623.842516\n",
       "Entire home/apt    624.192095\n",
       "Shared room        630.912517\n",
       "Hotel room         666.391304\n",
       "Name: price, dtype: float64"
      ]
     },
     "execution_count": 61,
     "metadata": {},
     "output_type": "execute_result"
    }
   ],
   "source": [
    "df_rm_price = df.groupby('room_type')['price'].mean().sort_values(ascending=True)\n",
    "df_rm_price"
   ]
  },
  {
   "cell_type": "code",
   "execution_count": 62,
   "id": "90509092",
   "metadata": {},
   "outputs": [
    {
     "data": {
      "image/png": "[encoded data removed]",
      "text/plain": [
       "<Figure size 640x480 with 1 Axes>"
      ]
     },
     "metadata": {},
     "output_type": "display_data"
    }
   ],
   "source": [
    "df_rm_price.plot(kind='bar') # Usamos nuestra variable para que la plotee en un Grafico de Barras.\n",
    "\n",
    "plt.xlabel('Tipo de Habitación') # Formateo de Ejes y Titulo.\n",
    "plt.ylabel('Precios')\n",
    "plt.title('Precios con respecto al tipo de habitación')\n",
    "\n",
    "plt.show() # Para plotear el grafico."
   ]
  },
  {
   "cell_type": "markdown",
   "id": "58484476",
   "metadata": {},
   "source": [
    "---> Podemos ver que la **Habitación de Hotel es la mas cara**, incluso por encima de alquilar toda una casa, lo que puede decir mucho de los Hoteles que hay en esos barrios, **O incluso de la clientela** que frecuenta los servicios de AirBnB, para ello habría que cruzar mas variables y hacer mas análisis al respecto."
   ]
  },
  {
   "cell_type": "markdown",
   "id": "c2d112d3",
   "metadata": {},
   "source": [
    "++++ Cree un gráfico circular que muestre la distribución de los días reservados para cada grupo de barrios."
   ]
  },
  {
   "cell_type": "code",
   "execution_count": 110,
   "id": "ec172b2f",
   "metadata": {},
   "outputs": [
    {
     "data": {
      "text/plain": [
       "neighbourhood_group\n",
       "brookln           47.000000\n",
       "Brooklyn         130.966990\n",
       "Manhattan        142.872410\n",
       "Queens           162.653526\n",
       "Bronx            179.269267\n",
       "Staten Island    196.038188\n",
       "manhatan         325.000000\n",
       "Name: days_booked, dtype: float64"
      ]
     },
     "execution_count": 110,
     "metadata": {},
     "output_type": "execute_result"
    }
   ],
   "source": [
    "df_db_ng = df['days_booked'].groupby(df['neighbourhood_group']).mean().sort_values(ascending=True)\n",
    "df_db_ng"
   ]
  },
  {
   "cell_type": "code",
   "execution_count": 111,
   "id": "68a49988",
   "metadata": {},
   "outputs": [
    {
     "data": {
      "text/plain": [
       "<Axes: ylabel='days_booked'>"
      ]
     },
     "execution_count": 111,
     "metadata": {},
     "output_type": "execute_result"
    },
    {
     "data": {
      "image/png": "[encoded data removed]",
      "text/plain": [
       "<Figure size 640x480 with 1 Axes>"
      ]
     },
     "metadata": {},
     "output_type": "display_data"
    }
   ],
   "source": [
    "df_db_ng.plot.pie(autopct='%1.1f%%', radius=0.8)"
   ]
  },
  {
   "cell_type": "code",
   "execution_count": 108,
   "id": "54070d8f",
   "metadata": {},
   "outputs": [],
   "source": [
    "                                        ####### TESTING BLOCK #######\n",
    "### df['days_booked'].groupby(df['neighbourhood_group']).mean().sort_values(ascending=True)\n",
    "\n",
    "#labels = df['neighbourhood_group'].unique()\n",
    "#sizes = df['days_booked'].groupby(df['neighbourhood_group']).mean().sort_values(ascending=True)\n",
    "#fig, ax = plt.subplots()\n",
    "#ax.pie(sizes, labels=labels, autopct='%1.1f%%')   \n",
    "\n",
    "## Haciendolo por este metodo no entiendo aun por que pero no grafica correctamente los porcentajes.\n",
    "## Ya lo testeare mas detenidamente."
   ]
  },
  {
   "cell_type": "code",
   "execution_count": null,
   "id": "e7502f5f",
   "metadata": {},
   "outputs": [],
   "source": [
    "                                        ####### TESTING BLOCK #######\n",
    "#df['neighbourhood_group'].unique()\n",
    "#ccc = df['neighbourhood_group'].unique()\n",
    "#ccc.sum()\n",
    "\n",
    "# Datos\n",
    "#grupos = ['Brooklyn', 'Manhattan', 'brookln', 'manhatan', 'Queens',\n",
    "       #'Staten Island', 'Bronx']\n",
    "#valor = [12, 22, 16, 38, 12]\n",
    "\n",
    "# Pie chart\n",
    "#fig, ax = plt.subplots()\n",
    "#ax.pie(valor, labels = grupos, autopct = '%1.1f%%')\n",
    "# plt.show()\n",
    "\n",
    "# Mas testeos fallidos."
   ]
  },
  {
   "cell_type": "markdown",
   "id": "7dbdfbd9",
   "metadata": {},
   "source": [
    "++++ La distribución de los días reservados para cada grupo de barrios."
   ]
  },
  {
   "cell_type": "code",
   "execution_count": 112,
   "id": "383221d7",
   "metadata": {},
   "outputs": [
    {
     "data": {
      "text/plain": [
       "neighbourhood_group\n",
       "brookln           47.000000\n",
       "Brooklyn         130.966990\n",
       "Manhattan        142.872410\n",
       "Queens           162.653526\n",
       "Bronx            179.269267\n",
       "Staten Island    196.038188\n",
       "manhatan         325.000000\n",
       "Name: days_booked, dtype: float64"
      ]
     },
     "execution_count": 112,
     "metadata": {},
     "output_type": "execute_result"
    }
   ],
   "source": [
    "df_db_ng = df['days_booked'].groupby(df['neighbourhood_group']).mean().sort_values(ascending=True)\n",
    "df_db_ng"
   ]
  },
  {
   "cell_type": "markdown",
   "id": "686IEH_tK86G",
   "metadata": {
    "id": "686IEH_tK86G"
   },
   "source": [
    "## Tarea 5b: Visualización de datos (Cualquier herramienta)\n",
    "\n",
    "* ¿El precio del servicio y el precio de la habitación tienen un impacto mutuo? Ilustre esta relación con un gráfico de dispersión e indique sus inferencias\n",
    "* Utilizando un gráfico lineal muestre en qué año tuvo lugar la máxima construcción de habitaciones.\n",
    "\n",
    "Si utiliza Python para este ejercicio, incluya el código en las celdas siguientes. Si utiliza cualquier otra herramienta, incluya capturas de pantalla de su trabajo."
   ]
  },
  {
   "cell_type": "markdown",
   "id": "fab20434",
   "metadata": {
    "id": "dJHVCn9fK86H"
   },
   "source": [
    "++++ ¿El precio del servicio y el precio de la habitación tienen un impacto mutuo? Ilustre esta relación con un gráfico de dispersión e indique sus inferencias"
   ]
  },
  {
   "cell_type": "code",
   "execution_count": 115,
   "id": "09cabb1b",
   "metadata": {},
   "outputs": [
    {
     "data": {
      "text/plain": [
       "Index(['name', 'host_identity_verified', 'host_name', 'neighbourhood_group',\n",
       "       'neighbourhood', 'lat', 'long', 'instant_bookable',\n",
       "       'cancellation_policy', 'room_type', 'construction_year', 'price',\n",
       "       'service_fee', 'minimum_nights', 'number_of_reviews', 'last_review',\n",
       "       'reviews_per_month', 'review_rate_number',\n",
       "       'calculated_host_listings_count', 'days_booked', 'house_rules',\n",
       "       'license'],\n",
       "      dtype='object')"
      ]
     },
     "execution_count": 115,
     "metadata": {},
     "output_type": "execute_result"
    }
   ],
   "source": [
    "df.columns"
   ]
  },
  {
   "cell_type": "code",
   "execution_count": 121,
   "id": "31730ca7",
   "metadata": {},
   "outputs": [],
   "source": [
    "import seaborn as sns"
   ]
  },
  {
   "cell_type": "code",
   "execution_count": 123,
   "id": "7995aa6d",
   "metadata": {},
   "outputs": [
    {
     "data": {
      "image/png": "[encoded data removed]",
      "text/plain": [
       "<Figure size 500x500 with 1 Axes>"
      ]
     },
     "metadata": {},
     "output_type": "display_data"
    }
   ],
   "source": [
    "vs1 = sns.lmplot(data=df, x='service_fee', y='price', fit_reg=False)"
   ]
  },
  {
   "cell_type": "code",
   "execution_count": null,
   "id": "60d6a0ea",
   "metadata": {},
   "outputs": [],
   "source": []
  },
  {
   "cell_type": "code",
   "execution_count": null,
   "id": "5c1f137a",
   "metadata": {},
   "outputs": [],
   "source": []
  },
  {
   "cell_type": "markdown",
   "id": "26728fa6",
   "metadata": {
    "id": "JzlihqeiK86H"
   },
   "source": [
    "++++ Utilizando un gráfico lineal muestre en qué año tuvo lugar la máxima construcción de habitaciones."
   ]
  },
  {
   "cell_type": "code",
   "execution_count": null,
   "id": "63c68c2b",
   "metadata": {},
   "outputs": [],
   "source": []
  },
  {
   "cell_type": "code",
   "execution_count": null,
   "id": "b8a7094f",
   "metadata": {},
   "outputs": [],
   "source": []
  },
  {
   "cell_type": "code",
   "execution_count": null,
   "id": "c8bc4b08",
   "metadata": {},
   "outputs": [],
   "source": []
  },
  {
   "cell_type": "code",
   "execution_count": null,
   "id": "f00ef586",
   "metadata": {},
   "outputs": [],
   "source": []
  },
  {
   "cell_type": "markdown",
   "id": "2Yc5AWtsK86H",
   "metadata": {
    "id": "2Yc5AWtsK86H"
   },
   "source": [
    "## Tarea 5c: Visualización de datos (Cualquier herramienta)\n",
    "\n",
    "* Con la ayuda de gráficos de caja ilustra lo siguiente\n",
    " * Efecto del número de tasa de revisión en el precio\n",
    " * Efecto de la identidad del host verificada en el precio\n",
    "\n",
    "Si utiliza Python para este ejercicio, por favor incluya el código en las celdas de abajo. Si utiliza cualquier otra herramienta, por favor incluya capturas de pantalla de su trabajo."
   ]
  },
  {
   "cell_type": "code",
   "execution_count": null,
   "id": "u7w_1H1sK86H",
   "metadata": {
    "id": "u7w_1H1sK86H"
   },
   "outputs": [],
   "source": []
  },
  {
   "cell_type": "code",
   "execution_count": null,
   "id": "NDIOsUSRK86I",
   "metadata": {
    "id": "NDIOsUSRK86I"
   },
   "outputs": [],
   "source": []
  },
  {
   "cell_type": "code",
   "execution_count": null,
   "id": "UM7P_KhFK86I",
   "metadata": {
    "id": "UM7P_KhFK86I"
   },
   "outputs": [],
   "source": []
  }
 ],
 "metadata": {
  "colab": {
   "provenance": []
  },
  "kernelspec": {
   "display_name": "Python 3 (ipykernel)",
   "language": "python",
   "name": "python3"
  },
  "language_info": {
   "codemirror_mode": {
    "name": "ipython",
    "version": 3
   },
   "file_extension": ".py",
   "mimetype": "text/x-python",
   "name": "python",
   "nbconvert_exporter": "python",
   "pygments_lexer": "ipython3",
   "version": "3.11.5"
  },
  "nteract": {
   "version": "0.28.0"
  },
  "toc": {
   "base_numbering": 1,
   "nav_menu": {},
   "number_sections": false,
   "sideBar": true,
   "skip_h1_title": true,
   "title_cell": "Table of Contents",
   "title_sidebar": "Contents",
   "toc_cell": false,
   "toc_position": {},
   "toc_section_display": true,
   "toc_window_display": true
  },
  "vscode": {
   "interpreter": {
    "hash": "31f2aee4e71d21fbe5cf8b01ff0e069b9275f58929596ceb00d14d90e3e16cd6"
   }
  }
 },
 "nbformat": 4,
 "nbformat_minor": 5
}
